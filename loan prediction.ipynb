{
 "cells": [
  {
   "cell_type": "markdown",
   "metadata": {},
   "source": [
    "# Predict Loan Eligibility for Dream Housing Finance company\n",
    "\n",
    "1. **About Data**:\n",
    "Dream Housing Finance company deals in all kinds of home loans. They have presence across all urban, semi urban and rural areas. Customer first applies for home loan and after that company validates the customer eligibility for loan.\n",
    "\n",
    "Company wants to automate the loan eligibility process (real time) based on customer detail provided while filling online application form. These details are Gender, Marital Status, Education, Number of Dependents, Income, Loan Amount, Credit History and others. To automate this process, they have provided a dataset to identify the customers segments that are eligible for loan amount so that they can specifically target these customers. \n",
    "\n",
    "2. **Attribute Information**:\n",
    "\n",
    "- Loan_ID: Unique Loan ID\n",
    "- Gender\tMale/ Female\n",
    "- Married\tApplicant married (Y/N)\n",
    "- Dependents\tNumber of dependents\n",
    "- Education\tApplicant Education (Graduate/ Under Graduate)\n",
    "- Self_Employed\tSelf employed (Y/N)\n",
    "- ApplicantIncome\tApplicant income\n",
    "- CoapplicantIncome\tCoapplicant income\n",
    "- LoanAmount\tLoan amount in thousands\n",
    "- Loan_Amount_Term\tTerm of loan in months\n",
    "- Credit_History\tcredit history meets guidelines\n",
    "- Property_Area\tUrban/ Semi Urban/ Rural\n",
    "- Loan_Status\t(Target) Loan approved (Y/N)\n",
    "\n",
    "3. **Evaluation Metric**:\n",
    "\n",
    "*Accuracy*"
   ]
  },
  {
   "cell_type": "markdown",
   "metadata": {},
   "source": [
    "## Importing Libraries"
   ]
  },
  {
   "cell_type": "code",
   "execution_count": 1,
   "metadata": {
    "ExecuteTime": {
     "end_time": "2020-12-08T12:26:08.250532Z",
     "start_time": "2020-12-08T12:26:03.214416Z"
    }
   },
   "outputs": [],
   "source": [
    "#for managing dataframes\n",
    "import pandas as pd\n",
    "\n",
    "#for numerical operations\n",
    "import numpy as np\n",
    " \n",
    "#for visualization\n",
    "import seaborn as sns\n",
    "import matplotlib.pyplot as plt\n",
    "\n",
    "#for imputations\n",
    "import statistics\n",
    "\n",
    "#for machine learning\n",
    "from sklearn.model_selection import train_test_split\n",
    "from sklearn.metrics import classification_report, confusion_matrix, accuracy_score, f1_score, make_scorer\n",
    "from sklearn.model_selection import GridSearchCV\n",
    "from sklearn.naive_bayes import GaussianNB\n",
    "from sklearn.linear_model import LogisticRegression\n",
    "from sklearn.neighbors import KNeighborsClassifier\n",
    "from sklearn.tree import DecisionTreeClassifier\n",
    "from sklearn.svm import SVC\n",
    "from sklearn.ensemble import RandomForestClassifier, GradientBoostingClassifier\n",
    "import xgboost as xgb\n",
    "from sklearn.ensemble import AdaBoostClassifier\n",
    "from catboost import CatBoostClassifier\n",
    "from lightgbm import LGBMClassifier\n",
    "from mlxtend.classifier import EnsembleVoteClassifier\n",
    "from mlxtend.classifier import StackingClassifier\n",
    "import warnings\n",
    "warnings.filterwarnings('ignore')"
   ]
  },
  {
   "cell_type": "markdown",
   "metadata": {},
   "source": [
    "## Reading Datasets"
   ]
  },
  {
   "cell_type": "code",
   "execution_count": 2,
   "metadata": {
    "ExecuteTime": {
     "end_time": "2020-12-08T12:26:08.358245Z",
     "start_time": "2020-12-08T12:26:08.254521Z"
    }
   },
   "outputs": [],
   "source": [
    "#load dataset\n",
    "loan_train = pd.read_csv('train_ctrUa4K.csv')\n",
    "loan_test = pd.read_csv('test_lAUu6dG.csv')\n",
    "loan_submission = pd.read_csv('sample_submission_49d68Cx.csv')"
   ]
  },
  {
   "cell_type": "code",
   "execution_count": 3,
   "metadata": {
    "ExecuteTime": {
     "end_time": "2020-12-08T12:26:08.437556Z",
     "start_time": "2020-12-08T12:26:08.373207Z"
    },
    "scrolled": false
   },
   "outputs": [
    {
     "data": {
      "text/html": [
       "<div>\n",
       "<style scoped>\n",
       "    .dataframe tbody tr th:only-of-type {\n",
       "        vertical-align: middle;\n",
       "    }\n",
       "\n",
       "    .dataframe tbody tr th {\n",
       "        vertical-align: top;\n",
       "    }\n",
       "\n",
       "    .dataframe thead th {\n",
       "        text-align: right;\n",
       "    }\n",
       "</style>\n",
       "<table border=\"1\" class=\"dataframe\">\n",
       "  <thead>\n",
       "    <tr style=\"text-align: right;\">\n",
       "      <th></th>\n",
       "      <th>Loan_ID</th>\n",
       "      <th>Gender</th>\n",
       "      <th>Married</th>\n",
       "      <th>Dependents</th>\n",
       "      <th>Education</th>\n",
       "      <th>Self_Employed</th>\n",
       "      <th>ApplicantIncome</th>\n",
       "      <th>CoapplicantIncome</th>\n",
       "      <th>LoanAmount</th>\n",
       "      <th>Loan_Amount_Term</th>\n",
       "      <th>Credit_History</th>\n",
       "      <th>Property_Area</th>\n",
       "      <th>Loan_Status</th>\n",
       "    </tr>\n",
       "  </thead>\n",
       "  <tbody>\n",
       "    <tr>\n",
       "      <th>0</th>\n",
       "      <td>LP001002</td>\n",
       "      <td>Male</td>\n",
       "      <td>No</td>\n",
       "      <td>0</td>\n",
       "      <td>Graduate</td>\n",
       "      <td>No</td>\n",
       "      <td>5849</td>\n",
       "      <td>0.0</td>\n",
       "      <td>NaN</td>\n",
       "      <td>360.0</td>\n",
       "      <td>1.0</td>\n",
       "      <td>Urban</td>\n",
       "      <td>Y</td>\n",
       "    </tr>\n",
       "    <tr>\n",
       "      <th>1</th>\n",
       "      <td>LP001003</td>\n",
       "      <td>Male</td>\n",
       "      <td>Yes</td>\n",
       "      <td>1</td>\n",
       "      <td>Graduate</td>\n",
       "      <td>No</td>\n",
       "      <td>4583</td>\n",
       "      <td>1508.0</td>\n",
       "      <td>128.0</td>\n",
       "      <td>360.0</td>\n",
       "      <td>1.0</td>\n",
       "      <td>Rural</td>\n",
       "      <td>N</td>\n",
       "    </tr>\n",
       "    <tr>\n",
       "      <th>2</th>\n",
       "      <td>LP001005</td>\n",
       "      <td>Male</td>\n",
       "      <td>Yes</td>\n",
       "      <td>0</td>\n",
       "      <td>Graduate</td>\n",
       "      <td>Yes</td>\n",
       "      <td>3000</td>\n",
       "      <td>0.0</td>\n",
       "      <td>66.0</td>\n",
       "      <td>360.0</td>\n",
       "      <td>1.0</td>\n",
       "      <td>Urban</td>\n",
       "      <td>Y</td>\n",
       "    </tr>\n",
       "    <tr>\n",
       "      <th>3</th>\n",
       "      <td>LP001006</td>\n",
       "      <td>Male</td>\n",
       "      <td>Yes</td>\n",
       "      <td>0</td>\n",
       "      <td>Not Graduate</td>\n",
       "      <td>No</td>\n",
       "      <td>2583</td>\n",
       "      <td>2358.0</td>\n",
       "      <td>120.0</td>\n",
       "      <td>360.0</td>\n",
       "      <td>1.0</td>\n",
       "      <td>Urban</td>\n",
       "      <td>Y</td>\n",
       "    </tr>\n",
       "    <tr>\n",
       "      <th>4</th>\n",
       "      <td>LP001008</td>\n",
       "      <td>Male</td>\n",
       "      <td>No</td>\n",
       "      <td>0</td>\n",
       "      <td>Graduate</td>\n",
       "      <td>No</td>\n",
       "      <td>6000</td>\n",
       "      <td>0.0</td>\n",
       "      <td>141.0</td>\n",
       "      <td>360.0</td>\n",
       "      <td>1.0</td>\n",
       "      <td>Urban</td>\n",
       "      <td>Y</td>\n",
       "    </tr>\n",
       "    <tr>\n",
       "      <th>...</th>\n",
       "      <td>...</td>\n",
       "      <td>...</td>\n",
       "      <td>...</td>\n",
       "      <td>...</td>\n",
       "      <td>...</td>\n",
       "      <td>...</td>\n",
       "      <td>...</td>\n",
       "      <td>...</td>\n",
       "      <td>...</td>\n",
       "      <td>...</td>\n",
       "      <td>...</td>\n",
       "      <td>...</td>\n",
       "      <td>...</td>\n",
       "    </tr>\n",
       "    <tr>\n",
       "      <th>609</th>\n",
       "      <td>LP002978</td>\n",
       "      <td>Female</td>\n",
       "      <td>No</td>\n",
       "      <td>0</td>\n",
       "      <td>Graduate</td>\n",
       "      <td>No</td>\n",
       "      <td>2900</td>\n",
       "      <td>0.0</td>\n",
       "      <td>71.0</td>\n",
       "      <td>360.0</td>\n",
       "      <td>1.0</td>\n",
       "      <td>Rural</td>\n",
       "      <td>Y</td>\n",
       "    </tr>\n",
       "    <tr>\n",
       "      <th>610</th>\n",
       "      <td>LP002979</td>\n",
       "      <td>Male</td>\n",
       "      <td>Yes</td>\n",
       "      <td>3+</td>\n",
       "      <td>Graduate</td>\n",
       "      <td>No</td>\n",
       "      <td>4106</td>\n",
       "      <td>0.0</td>\n",
       "      <td>40.0</td>\n",
       "      <td>180.0</td>\n",
       "      <td>1.0</td>\n",
       "      <td>Rural</td>\n",
       "      <td>Y</td>\n",
       "    </tr>\n",
       "    <tr>\n",
       "      <th>611</th>\n",
       "      <td>LP002983</td>\n",
       "      <td>Male</td>\n",
       "      <td>Yes</td>\n",
       "      <td>1</td>\n",
       "      <td>Graduate</td>\n",
       "      <td>No</td>\n",
       "      <td>8072</td>\n",
       "      <td>240.0</td>\n",
       "      <td>253.0</td>\n",
       "      <td>360.0</td>\n",
       "      <td>1.0</td>\n",
       "      <td>Urban</td>\n",
       "      <td>Y</td>\n",
       "    </tr>\n",
       "    <tr>\n",
       "      <th>612</th>\n",
       "      <td>LP002984</td>\n",
       "      <td>Male</td>\n",
       "      <td>Yes</td>\n",
       "      <td>2</td>\n",
       "      <td>Graduate</td>\n",
       "      <td>No</td>\n",
       "      <td>7583</td>\n",
       "      <td>0.0</td>\n",
       "      <td>187.0</td>\n",
       "      <td>360.0</td>\n",
       "      <td>1.0</td>\n",
       "      <td>Urban</td>\n",
       "      <td>Y</td>\n",
       "    </tr>\n",
       "    <tr>\n",
       "      <th>613</th>\n",
       "      <td>LP002990</td>\n",
       "      <td>Female</td>\n",
       "      <td>No</td>\n",
       "      <td>0</td>\n",
       "      <td>Graduate</td>\n",
       "      <td>Yes</td>\n",
       "      <td>4583</td>\n",
       "      <td>0.0</td>\n",
       "      <td>133.0</td>\n",
       "      <td>360.0</td>\n",
       "      <td>0.0</td>\n",
       "      <td>Semiurban</td>\n",
       "      <td>N</td>\n",
       "    </tr>\n",
       "  </tbody>\n",
       "</table>\n",
       "<p>614 rows × 13 columns</p>\n",
       "</div>"
      ],
      "text/plain": [
       "      Loan_ID  Gender Married Dependents     Education Self_Employed  \\\n",
       "0    LP001002    Male      No          0      Graduate            No   \n",
       "1    LP001003    Male     Yes          1      Graduate            No   \n",
       "2    LP001005    Male     Yes          0      Graduate           Yes   \n",
       "3    LP001006    Male     Yes          0  Not Graduate            No   \n",
       "4    LP001008    Male      No          0      Graduate            No   \n",
       "..        ...     ...     ...        ...           ...           ...   \n",
       "609  LP002978  Female      No          0      Graduate            No   \n",
       "610  LP002979    Male     Yes         3+      Graduate            No   \n",
       "611  LP002983    Male     Yes          1      Graduate            No   \n",
       "612  LP002984    Male     Yes          2      Graduate            No   \n",
       "613  LP002990  Female      No          0      Graduate           Yes   \n",
       "\n",
       "     ApplicantIncome  CoapplicantIncome  LoanAmount  Loan_Amount_Term  \\\n",
       "0               5849                0.0         NaN             360.0   \n",
       "1               4583             1508.0       128.0             360.0   \n",
       "2               3000                0.0        66.0             360.0   \n",
       "3               2583             2358.0       120.0             360.0   \n",
       "4               6000                0.0       141.0             360.0   \n",
       "..               ...                ...         ...               ...   \n",
       "609             2900                0.0        71.0             360.0   \n",
       "610             4106                0.0        40.0             180.0   \n",
       "611             8072              240.0       253.0             360.0   \n",
       "612             7583                0.0       187.0             360.0   \n",
       "613             4583                0.0       133.0             360.0   \n",
       "\n",
       "     Credit_History Property_Area Loan_Status  \n",
       "0               1.0         Urban           Y  \n",
       "1               1.0         Rural           N  \n",
       "2               1.0         Urban           Y  \n",
       "3               1.0         Urban           Y  \n",
       "4               1.0         Urban           Y  \n",
       "..              ...           ...         ...  \n",
       "609             1.0         Rural           Y  \n",
       "610             1.0         Rural           Y  \n",
       "611             1.0         Urban           Y  \n",
       "612             1.0         Urban           Y  \n",
       "613             0.0     Semiurban           N  \n",
       "\n",
       "[614 rows x 13 columns]"
      ]
     },
     "execution_count": 3,
     "metadata": {},
     "output_type": "execute_result"
    }
   ],
   "source": [
    "#checking head and tail of the datasets\n",
    "loan_train"
   ]
  },
  {
   "cell_type": "code",
   "execution_count": 4,
   "metadata": {
    "ExecuteTime": {
     "end_time": "2020-12-08T12:26:08.483906Z",
     "start_time": "2020-12-08T12:26:08.440025Z"
    }
   },
   "outputs": [
    {
     "data": {
      "text/html": [
       "<div>\n",
       "<style scoped>\n",
       "    .dataframe tbody tr th:only-of-type {\n",
       "        vertical-align: middle;\n",
       "    }\n",
       "\n",
       "    .dataframe tbody tr th {\n",
       "        vertical-align: top;\n",
       "    }\n",
       "\n",
       "    .dataframe thead th {\n",
       "        text-align: right;\n",
       "    }\n",
       "</style>\n",
       "<table border=\"1\" class=\"dataframe\">\n",
       "  <thead>\n",
       "    <tr style=\"text-align: right;\">\n",
       "      <th></th>\n",
       "      <th>Loan_ID</th>\n",
       "      <th>Gender</th>\n",
       "      <th>Married</th>\n",
       "      <th>Dependents</th>\n",
       "      <th>Education</th>\n",
       "      <th>Self_Employed</th>\n",
       "      <th>ApplicantIncome</th>\n",
       "      <th>CoapplicantIncome</th>\n",
       "      <th>LoanAmount</th>\n",
       "      <th>Loan_Amount_Term</th>\n",
       "      <th>Credit_History</th>\n",
       "      <th>Property_Area</th>\n",
       "    </tr>\n",
       "  </thead>\n",
       "  <tbody>\n",
       "    <tr>\n",
       "      <th>0</th>\n",
       "      <td>LP001015</td>\n",
       "      <td>Male</td>\n",
       "      <td>Yes</td>\n",
       "      <td>0</td>\n",
       "      <td>Graduate</td>\n",
       "      <td>No</td>\n",
       "      <td>5720</td>\n",
       "      <td>0</td>\n",
       "      <td>110.0</td>\n",
       "      <td>360.0</td>\n",
       "      <td>1.0</td>\n",
       "      <td>Urban</td>\n",
       "    </tr>\n",
       "    <tr>\n",
       "      <th>1</th>\n",
       "      <td>LP001022</td>\n",
       "      <td>Male</td>\n",
       "      <td>Yes</td>\n",
       "      <td>1</td>\n",
       "      <td>Graduate</td>\n",
       "      <td>No</td>\n",
       "      <td>3076</td>\n",
       "      <td>1500</td>\n",
       "      <td>126.0</td>\n",
       "      <td>360.0</td>\n",
       "      <td>1.0</td>\n",
       "      <td>Urban</td>\n",
       "    </tr>\n",
       "    <tr>\n",
       "      <th>2</th>\n",
       "      <td>LP001031</td>\n",
       "      <td>Male</td>\n",
       "      <td>Yes</td>\n",
       "      <td>2</td>\n",
       "      <td>Graduate</td>\n",
       "      <td>No</td>\n",
       "      <td>5000</td>\n",
       "      <td>1800</td>\n",
       "      <td>208.0</td>\n",
       "      <td>360.0</td>\n",
       "      <td>1.0</td>\n",
       "      <td>Urban</td>\n",
       "    </tr>\n",
       "    <tr>\n",
       "      <th>3</th>\n",
       "      <td>LP001035</td>\n",
       "      <td>Male</td>\n",
       "      <td>Yes</td>\n",
       "      <td>2</td>\n",
       "      <td>Graduate</td>\n",
       "      <td>No</td>\n",
       "      <td>2340</td>\n",
       "      <td>2546</td>\n",
       "      <td>100.0</td>\n",
       "      <td>360.0</td>\n",
       "      <td>NaN</td>\n",
       "      <td>Urban</td>\n",
       "    </tr>\n",
       "    <tr>\n",
       "      <th>4</th>\n",
       "      <td>LP001051</td>\n",
       "      <td>Male</td>\n",
       "      <td>No</td>\n",
       "      <td>0</td>\n",
       "      <td>Not Graduate</td>\n",
       "      <td>No</td>\n",
       "      <td>3276</td>\n",
       "      <td>0</td>\n",
       "      <td>78.0</td>\n",
       "      <td>360.0</td>\n",
       "      <td>1.0</td>\n",
       "      <td>Urban</td>\n",
       "    </tr>\n",
       "    <tr>\n",
       "      <th>...</th>\n",
       "      <td>...</td>\n",
       "      <td>...</td>\n",
       "      <td>...</td>\n",
       "      <td>...</td>\n",
       "      <td>...</td>\n",
       "      <td>...</td>\n",
       "      <td>...</td>\n",
       "      <td>...</td>\n",
       "      <td>...</td>\n",
       "      <td>...</td>\n",
       "      <td>...</td>\n",
       "      <td>...</td>\n",
       "    </tr>\n",
       "    <tr>\n",
       "      <th>362</th>\n",
       "      <td>LP002971</td>\n",
       "      <td>Male</td>\n",
       "      <td>Yes</td>\n",
       "      <td>3+</td>\n",
       "      <td>Not Graduate</td>\n",
       "      <td>Yes</td>\n",
       "      <td>4009</td>\n",
       "      <td>1777</td>\n",
       "      <td>113.0</td>\n",
       "      <td>360.0</td>\n",
       "      <td>1.0</td>\n",
       "      <td>Urban</td>\n",
       "    </tr>\n",
       "    <tr>\n",
       "      <th>363</th>\n",
       "      <td>LP002975</td>\n",
       "      <td>Male</td>\n",
       "      <td>Yes</td>\n",
       "      <td>0</td>\n",
       "      <td>Graduate</td>\n",
       "      <td>No</td>\n",
       "      <td>4158</td>\n",
       "      <td>709</td>\n",
       "      <td>115.0</td>\n",
       "      <td>360.0</td>\n",
       "      <td>1.0</td>\n",
       "      <td>Urban</td>\n",
       "    </tr>\n",
       "    <tr>\n",
       "      <th>364</th>\n",
       "      <td>LP002980</td>\n",
       "      <td>Male</td>\n",
       "      <td>No</td>\n",
       "      <td>0</td>\n",
       "      <td>Graduate</td>\n",
       "      <td>No</td>\n",
       "      <td>3250</td>\n",
       "      <td>1993</td>\n",
       "      <td>126.0</td>\n",
       "      <td>360.0</td>\n",
       "      <td>NaN</td>\n",
       "      <td>Semiurban</td>\n",
       "    </tr>\n",
       "    <tr>\n",
       "      <th>365</th>\n",
       "      <td>LP002986</td>\n",
       "      <td>Male</td>\n",
       "      <td>Yes</td>\n",
       "      <td>0</td>\n",
       "      <td>Graduate</td>\n",
       "      <td>No</td>\n",
       "      <td>5000</td>\n",
       "      <td>2393</td>\n",
       "      <td>158.0</td>\n",
       "      <td>360.0</td>\n",
       "      <td>1.0</td>\n",
       "      <td>Rural</td>\n",
       "    </tr>\n",
       "    <tr>\n",
       "      <th>366</th>\n",
       "      <td>LP002989</td>\n",
       "      <td>Male</td>\n",
       "      <td>No</td>\n",
       "      <td>0</td>\n",
       "      <td>Graduate</td>\n",
       "      <td>Yes</td>\n",
       "      <td>9200</td>\n",
       "      <td>0</td>\n",
       "      <td>98.0</td>\n",
       "      <td>180.0</td>\n",
       "      <td>1.0</td>\n",
       "      <td>Rural</td>\n",
       "    </tr>\n",
       "  </tbody>\n",
       "</table>\n",
       "<p>367 rows × 12 columns</p>\n",
       "</div>"
      ],
      "text/plain": [
       "      Loan_ID Gender Married Dependents     Education Self_Employed  \\\n",
       "0    LP001015   Male     Yes          0      Graduate            No   \n",
       "1    LP001022   Male     Yes          1      Graduate            No   \n",
       "2    LP001031   Male     Yes          2      Graduate            No   \n",
       "3    LP001035   Male     Yes          2      Graduate            No   \n",
       "4    LP001051   Male      No          0  Not Graduate            No   \n",
       "..        ...    ...     ...        ...           ...           ...   \n",
       "362  LP002971   Male     Yes         3+  Not Graduate           Yes   \n",
       "363  LP002975   Male     Yes          0      Graduate            No   \n",
       "364  LP002980   Male      No          0      Graduate            No   \n",
       "365  LP002986   Male     Yes          0      Graduate            No   \n",
       "366  LP002989   Male      No          0      Graduate           Yes   \n",
       "\n",
       "     ApplicantIncome  CoapplicantIncome  LoanAmount  Loan_Amount_Term  \\\n",
       "0               5720                  0       110.0             360.0   \n",
       "1               3076               1500       126.0             360.0   \n",
       "2               5000               1800       208.0             360.0   \n",
       "3               2340               2546       100.0             360.0   \n",
       "4               3276                  0        78.0             360.0   \n",
       "..               ...                ...         ...               ...   \n",
       "362             4009               1777       113.0             360.0   \n",
       "363             4158                709       115.0             360.0   \n",
       "364             3250               1993       126.0             360.0   \n",
       "365             5000               2393       158.0             360.0   \n",
       "366             9200                  0        98.0             180.0   \n",
       "\n",
       "     Credit_History Property_Area  \n",
       "0               1.0         Urban  \n",
       "1               1.0         Urban  \n",
       "2               1.0         Urban  \n",
       "3               NaN         Urban  \n",
       "4               1.0         Urban  \n",
       "..              ...           ...  \n",
       "362             1.0         Urban  \n",
       "363             1.0         Urban  \n",
       "364             NaN     Semiurban  \n",
       "365             1.0         Rural  \n",
       "366             1.0         Rural  \n",
       "\n",
       "[367 rows x 12 columns]"
      ]
     },
     "execution_count": 4,
     "metadata": {},
     "output_type": "execute_result"
    }
   ],
   "source": [
    "loan_test"
   ]
  },
  {
   "cell_type": "code",
   "execution_count": 5,
   "metadata": {
    "ExecuteTime": {
     "end_time": "2020-12-08T12:26:08.499465Z",
     "start_time": "2020-12-08T12:26:08.485902Z"
    }
   },
   "outputs": [
    {
     "data": {
      "text/plain": [
       "Loan_ID               object\n",
       "Gender                object\n",
       "Married               object\n",
       "Dependents            object\n",
       "Education             object\n",
       "Self_Employed         object\n",
       "ApplicantIncome        int64\n",
       "CoapplicantIncome    float64\n",
       "LoanAmount           float64\n",
       "Loan_Amount_Term     float64\n",
       "Credit_History       float64\n",
       "Property_Area         object\n",
       "Loan_Status           object\n",
       "dtype: object"
      ]
     },
     "execution_count": 5,
     "metadata": {},
     "output_type": "execute_result"
    }
   ],
   "source": [
    "#checking features datatypes\n",
    "loan_train.dtypes"
   ]
  },
  {
   "cell_type": "code",
   "execution_count": 6,
   "metadata": {
    "ExecuteTime": {
     "end_time": "2020-12-08T12:26:08.514823Z",
     "start_time": "2020-12-08T12:26:08.502938Z"
    }
   },
   "outputs": [
    {
     "data": {
      "text/plain": [
       "Loan_ID               object\n",
       "Gender                object\n",
       "Married               object\n",
       "Dependents            object\n",
       "Education             object\n",
       "Self_Employed         object\n",
       "ApplicantIncome        int64\n",
       "CoapplicantIncome      int64\n",
       "LoanAmount           float64\n",
       "Loan_Amount_Term     float64\n",
       "Credit_History       float64\n",
       "Property_Area         object\n",
       "dtype: object"
      ]
     },
     "execution_count": 6,
     "metadata": {},
     "output_type": "execute_result"
    }
   ],
   "source": [
    "loan_test.dtypes"
   ]
  },
  {
   "cell_type": "code",
   "execution_count": 7,
   "metadata": {
    "ExecuteTime": {
     "end_time": "2020-12-08T12:26:08.592649Z",
     "start_time": "2020-12-08T12:26:08.517828Z"
    }
   },
   "outputs": [
    {
     "data": {
      "text/html": [
       "<div>\n",
       "<style scoped>\n",
       "    .dataframe tbody tr th:only-of-type {\n",
       "        vertical-align: middle;\n",
       "    }\n",
       "\n",
       "    .dataframe tbody tr th {\n",
       "        vertical-align: top;\n",
       "    }\n",
       "\n",
       "    .dataframe thead th {\n",
       "        text-align: right;\n",
       "    }\n",
       "</style>\n",
       "<table border=\"1\" class=\"dataframe\">\n",
       "  <thead>\n",
       "    <tr style=\"text-align: right;\">\n",
       "      <th></th>\n",
       "      <th>Loan_ID</th>\n",
       "      <th>Gender</th>\n",
       "      <th>Married</th>\n",
       "      <th>Dependents</th>\n",
       "      <th>Education</th>\n",
       "      <th>Self_Employed</th>\n",
       "      <th>ApplicantIncome</th>\n",
       "      <th>CoapplicantIncome</th>\n",
       "      <th>LoanAmount</th>\n",
       "      <th>Loan_Amount_Term</th>\n",
       "      <th>Credit_History</th>\n",
       "      <th>Property_Area</th>\n",
       "      <th>Loan_Status</th>\n",
       "    </tr>\n",
       "  </thead>\n",
       "  <tbody>\n",
       "    <tr>\n",
       "      <th>count</th>\n",
       "      <td>614</td>\n",
       "      <td>601</td>\n",
       "      <td>611</td>\n",
       "      <td>599</td>\n",
       "      <td>614</td>\n",
       "      <td>582</td>\n",
       "      <td>614.000000</td>\n",
       "      <td>614.000000</td>\n",
       "      <td>592.000000</td>\n",
       "      <td>600.00000</td>\n",
       "      <td>564.000000</td>\n",
       "      <td>614</td>\n",
       "      <td>614</td>\n",
       "    </tr>\n",
       "    <tr>\n",
       "      <th>unique</th>\n",
       "      <td>614</td>\n",
       "      <td>2</td>\n",
       "      <td>2</td>\n",
       "      <td>4</td>\n",
       "      <td>2</td>\n",
       "      <td>2</td>\n",
       "      <td>NaN</td>\n",
       "      <td>NaN</td>\n",
       "      <td>NaN</td>\n",
       "      <td>NaN</td>\n",
       "      <td>NaN</td>\n",
       "      <td>3</td>\n",
       "      <td>2</td>\n",
       "    </tr>\n",
       "    <tr>\n",
       "      <th>top</th>\n",
       "      <td>LP002287</td>\n",
       "      <td>Male</td>\n",
       "      <td>Yes</td>\n",
       "      <td>0</td>\n",
       "      <td>Graduate</td>\n",
       "      <td>No</td>\n",
       "      <td>NaN</td>\n",
       "      <td>NaN</td>\n",
       "      <td>NaN</td>\n",
       "      <td>NaN</td>\n",
       "      <td>NaN</td>\n",
       "      <td>Semiurban</td>\n",
       "      <td>Y</td>\n",
       "    </tr>\n",
       "    <tr>\n",
       "      <th>freq</th>\n",
       "      <td>1</td>\n",
       "      <td>489</td>\n",
       "      <td>398</td>\n",
       "      <td>345</td>\n",
       "      <td>480</td>\n",
       "      <td>500</td>\n",
       "      <td>NaN</td>\n",
       "      <td>NaN</td>\n",
       "      <td>NaN</td>\n",
       "      <td>NaN</td>\n",
       "      <td>NaN</td>\n",
       "      <td>233</td>\n",
       "      <td>422</td>\n",
       "    </tr>\n",
       "    <tr>\n",
       "      <th>mean</th>\n",
       "      <td>NaN</td>\n",
       "      <td>NaN</td>\n",
       "      <td>NaN</td>\n",
       "      <td>NaN</td>\n",
       "      <td>NaN</td>\n",
       "      <td>NaN</td>\n",
       "      <td>5403.459283</td>\n",
       "      <td>1621.245798</td>\n",
       "      <td>146.412162</td>\n",
       "      <td>342.00000</td>\n",
       "      <td>0.842199</td>\n",
       "      <td>NaN</td>\n",
       "      <td>NaN</td>\n",
       "    </tr>\n",
       "    <tr>\n",
       "      <th>std</th>\n",
       "      <td>NaN</td>\n",
       "      <td>NaN</td>\n",
       "      <td>NaN</td>\n",
       "      <td>NaN</td>\n",
       "      <td>NaN</td>\n",
       "      <td>NaN</td>\n",
       "      <td>6109.041673</td>\n",
       "      <td>2926.248369</td>\n",
       "      <td>85.587325</td>\n",
       "      <td>65.12041</td>\n",
       "      <td>0.364878</td>\n",
       "      <td>NaN</td>\n",
       "      <td>NaN</td>\n",
       "    </tr>\n",
       "    <tr>\n",
       "      <th>min</th>\n",
       "      <td>NaN</td>\n",
       "      <td>NaN</td>\n",
       "      <td>NaN</td>\n",
       "      <td>NaN</td>\n",
       "      <td>NaN</td>\n",
       "      <td>NaN</td>\n",
       "      <td>150.000000</td>\n",
       "      <td>0.000000</td>\n",
       "      <td>9.000000</td>\n",
       "      <td>12.00000</td>\n",
       "      <td>0.000000</td>\n",
       "      <td>NaN</td>\n",
       "      <td>NaN</td>\n",
       "    </tr>\n",
       "    <tr>\n",
       "      <th>25%</th>\n",
       "      <td>NaN</td>\n",
       "      <td>NaN</td>\n",
       "      <td>NaN</td>\n",
       "      <td>NaN</td>\n",
       "      <td>NaN</td>\n",
       "      <td>NaN</td>\n",
       "      <td>2877.500000</td>\n",
       "      <td>0.000000</td>\n",
       "      <td>100.000000</td>\n",
       "      <td>360.00000</td>\n",
       "      <td>1.000000</td>\n",
       "      <td>NaN</td>\n",
       "      <td>NaN</td>\n",
       "    </tr>\n",
       "    <tr>\n",
       "      <th>50%</th>\n",
       "      <td>NaN</td>\n",
       "      <td>NaN</td>\n",
       "      <td>NaN</td>\n",
       "      <td>NaN</td>\n",
       "      <td>NaN</td>\n",
       "      <td>NaN</td>\n",
       "      <td>3812.500000</td>\n",
       "      <td>1188.500000</td>\n",
       "      <td>128.000000</td>\n",
       "      <td>360.00000</td>\n",
       "      <td>1.000000</td>\n",
       "      <td>NaN</td>\n",
       "      <td>NaN</td>\n",
       "    </tr>\n",
       "    <tr>\n",
       "      <th>75%</th>\n",
       "      <td>NaN</td>\n",
       "      <td>NaN</td>\n",
       "      <td>NaN</td>\n",
       "      <td>NaN</td>\n",
       "      <td>NaN</td>\n",
       "      <td>NaN</td>\n",
       "      <td>5795.000000</td>\n",
       "      <td>2297.250000</td>\n",
       "      <td>168.000000</td>\n",
       "      <td>360.00000</td>\n",
       "      <td>1.000000</td>\n",
       "      <td>NaN</td>\n",
       "      <td>NaN</td>\n",
       "    </tr>\n",
       "    <tr>\n",
       "      <th>max</th>\n",
       "      <td>NaN</td>\n",
       "      <td>NaN</td>\n",
       "      <td>NaN</td>\n",
       "      <td>NaN</td>\n",
       "      <td>NaN</td>\n",
       "      <td>NaN</td>\n",
       "      <td>81000.000000</td>\n",
       "      <td>41667.000000</td>\n",
       "      <td>700.000000</td>\n",
       "      <td>480.00000</td>\n",
       "      <td>1.000000</td>\n",
       "      <td>NaN</td>\n",
       "      <td>NaN</td>\n",
       "    </tr>\n",
       "  </tbody>\n",
       "</table>\n",
       "</div>"
      ],
      "text/plain": [
       "         Loan_ID Gender Married Dependents Education Self_Employed  \\\n",
       "count        614    601     611        599       614           582   \n",
       "unique       614      2       2          4         2             2   \n",
       "top     LP002287   Male     Yes          0  Graduate            No   \n",
       "freq           1    489     398        345       480           500   \n",
       "mean         NaN    NaN     NaN        NaN       NaN           NaN   \n",
       "std          NaN    NaN     NaN        NaN       NaN           NaN   \n",
       "min          NaN    NaN     NaN        NaN       NaN           NaN   \n",
       "25%          NaN    NaN     NaN        NaN       NaN           NaN   \n",
       "50%          NaN    NaN     NaN        NaN       NaN           NaN   \n",
       "75%          NaN    NaN     NaN        NaN       NaN           NaN   \n",
       "max          NaN    NaN     NaN        NaN       NaN           NaN   \n",
       "\n",
       "        ApplicantIncome  CoapplicantIncome  LoanAmount  Loan_Amount_Term  \\\n",
       "count        614.000000         614.000000  592.000000         600.00000   \n",
       "unique              NaN                NaN         NaN               NaN   \n",
       "top                 NaN                NaN         NaN               NaN   \n",
       "freq                NaN                NaN         NaN               NaN   \n",
       "mean        5403.459283        1621.245798  146.412162         342.00000   \n",
       "std         6109.041673        2926.248369   85.587325          65.12041   \n",
       "min          150.000000           0.000000    9.000000          12.00000   \n",
       "25%         2877.500000           0.000000  100.000000         360.00000   \n",
       "50%         3812.500000        1188.500000  128.000000         360.00000   \n",
       "75%         5795.000000        2297.250000  168.000000         360.00000   \n",
       "max        81000.000000       41667.000000  700.000000         480.00000   \n",
       "\n",
       "        Credit_History Property_Area Loan_Status  \n",
       "count       564.000000           614         614  \n",
       "unique             NaN             3           2  \n",
       "top                NaN     Semiurban           Y  \n",
       "freq               NaN           233         422  \n",
       "mean          0.842199           NaN         NaN  \n",
       "std           0.364878           NaN         NaN  \n",
       "min           0.000000           NaN         NaN  \n",
       "25%           1.000000           NaN         NaN  \n",
       "50%           1.000000           NaN         NaN  \n",
       "75%           1.000000           NaN         NaN  \n",
       "max           1.000000           NaN         NaN  "
      ]
     },
     "execution_count": 7,
     "metadata": {},
     "output_type": "execute_result"
    }
   ],
   "source": [
    "#checking statistics\n",
    "loan_train.describe(include='all')"
   ]
  },
  {
   "cell_type": "code",
   "execution_count": 8,
   "metadata": {
    "ExecuteTime": {
     "end_time": "2020-12-08T12:26:08.671437Z",
     "start_time": "2020-12-08T12:26:08.597604Z"
    }
   },
   "outputs": [
    {
     "data": {
      "text/html": [
       "<div>\n",
       "<style scoped>\n",
       "    .dataframe tbody tr th:only-of-type {\n",
       "        vertical-align: middle;\n",
       "    }\n",
       "\n",
       "    .dataframe tbody tr th {\n",
       "        vertical-align: top;\n",
       "    }\n",
       "\n",
       "    .dataframe thead th {\n",
       "        text-align: right;\n",
       "    }\n",
       "</style>\n",
       "<table border=\"1\" class=\"dataframe\">\n",
       "  <thead>\n",
       "    <tr style=\"text-align: right;\">\n",
       "      <th></th>\n",
       "      <th>Loan_ID</th>\n",
       "      <th>Gender</th>\n",
       "      <th>Married</th>\n",
       "      <th>Dependents</th>\n",
       "      <th>Education</th>\n",
       "      <th>Self_Employed</th>\n",
       "      <th>ApplicantIncome</th>\n",
       "      <th>CoapplicantIncome</th>\n",
       "      <th>LoanAmount</th>\n",
       "      <th>Loan_Amount_Term</th>\n",
       "      <th>Credit_History</th>\n",
       "      <th>Property_Area</th>\n",
       "    </tr>\n",
       "  </thead>\n",
       "  <tbody>\n",
       "    <tr>\n",
       "      <th>count</th>\n",
       "      <td>367</td>\n",
       "      <td>356</td>\n",
       "      <td>367</td>\n",
       "      <td>357</td>\n",
       "      <td>367</td>\n",
       "      <td>344</td>\n",
       "      <td>367.000000</td>\n",
       "      <td>367.000000</td>\n",
       "      <td>362.000000</td>\n",
       "      <td>361.000000</td>\n",
       "      <td>338.000000</td>\n",
       "      <td>367</td>\n",
       "    </tr>\n",
       "    <tr>\n",
       "      <th>unique</th>\n",
       "      <td>367</td>\n",
       "      <td>2</td>\n",
       "      <td>2</td>\n",
       "      <td>4</td>\n",
       "      <td>2</td>\n",
       "      <td>2</td>\n",
       "      <td>NaN</td>\n",
       "      <td>NaN</td>\n",
       "      <td>NaN</td>\n",
       "      <td>NaN</td>\n",
       "      <td>NaN</td>\n",
       "      <td>3</td>\n",
       "    </tr>\n",
       "    <tr>\n",
       "      <th>top</th>\n",
       "      <td>LP002605</td>\n",
       "      <td>Male</td>\n",
       "      <td>Yes</td>\n",
       "      <td>0</td>\n",
       "      <td>Graduate</td>\n",
       "      <td>No</td>\n",
       "      <td>NaN</td>\n",
       "      <td>NaN</td>\n",
       "      <td>NaN</td>\n",
       "      <td>NaN</td>\n",
       "      <td>NaN</td>\n",
       "      <td>Urban</td>\n",
       "    </tr>\n",
       "    <tr>\n",
       "      <th>freq</th>\n",
       "      <td>1</td>\n",
       "      <td>286</td>\n",
       "      <td>233</td>\n",
       "      <td>200</td>\n",
       "      <td>283</td>\n",
       "      <td>307</td>\n",
       "      <td>NaN</td>\n",
       "      <td>NaN</td>\n",
       "      <td>NaN</td>\n",
       "      <td>NaN</td>\n",
       "      <td>NaN</td>\n",
       "      <td>140</td>\n",
       "    </tr>\n",
       "    <tr>\n",
       "      <th>mean</th>\n",
       "      <td>NaN</td>\n",
       "      <td>NaN</td>\n",
       "      <td>NaN</td>\n",
       "      <td>NaN</td>\n",
       "      <td>NaN</td>\n",
       "      <td>NaN</td>\n",
       "      <td>4805.599455</td>\n",
       "      <td>1569.577657</td>\n",
       "      <td>136.132597</td>\n",
       "      <td>342.537396</td>\n",
       "      <td>0.825444</td>\n",
       "      <td>NaN</td>\n",
       "    </tr>\n",
       "    <tr>\n",
       "      <th>std</th>\n",
       "      <td>NaN</td>\n",
       "      <td>NaN</td>\n",
       "      <td>NaN</td>\n",
       "      <td>NaN</td>\n",
       "      <td>NaN</td>\n",
       "      <td>NaN</td>\n",
       "      <td>4910.685399</td>\n",
       "      <td>2334.232099</td>\n",
       "      <td>61.366652</td>\n",
       "      <td>65.156643</td>\n",
       "      <td>0.380150</td>\n",
       "      <td>NaN</td>\n",
       "    </tr>\n",
       "    <tr>\n",
       "      <th>min</th>\n",
       "      <td>NaN</td>\n",
       "      <td>NaN</td>\n",
       "      <td>NaN</td>\n",
       "      <td>NaN</td>\n",
       "      <td>NaN</td>\n",
       "      <td>NaN</td>\n",
       "      <td>0.000000</td>\n",
       "      <td>0.000000</td>\n",
       "      <td>28.000000</td>\n",
       "      <td>6.000000</td>\n",
       "      <td>0.000000</td>\n",
       "      <td>NaN</td>\n",
       "    </tr>\n",
       "    <tr>\n",
       "      <th>25%</th>\n",
       "      <td>NaN</td>\n",
       "      <td>NaN</td>\n",
       "      <td>NaN</td>\n",
       "      <td>NaN</td>\n",
       "      <td>NaN</td>\n",
       "      <td>NaN</td>\n",
       "      <td>2864.000000</td>\n",
       "      <td>0.000000</td>\n",
       "      <td>100.250000</td>\n",
       "      <td>360.000000</td>\n",
       "      <td>1.000000</td>\n",
       "      <td>NaN</td>\n",
       "    </tr>\n",
       "    <tr>\n",
       "      <th>50%</th>\n",
       "      <td>NaN</td>\n",
       "      <td>NaN</td>\n",
       "      <td>NaN</td>\n",
       "      <td>NaN</td>\n",
       "      <td>NaN</td>\n",
       "      <td>NaN</td>\n",
       "      <td>3786.000000</td>\n",
       "      <td>1025.000000</td>\n",
       "      <td>125.000000</td>\n",
       "      <td>360.000000</td>\n",
       "      <td>1.000000</td>\n",
       "      <td>NaN</td>\n",
       "    </tr>\n",
       "    <tr>\n",
       "      <th>75%</th>\n",
       "      <td>NaN</td>\n",
       "      <td>NaN</td>\n",
       "      <td>NaN</td>\n",
       "      <td>NaN</td>\n",
       "      <td>NaN</td>\n",
       "      <td>NaN</td>\n",
       "      <td>5060.000000</td>\n",
       "      <td>2430.500000</td>\n",
       "      <td>158.000000</td>\n",
       "      <td>360.000000</td>\n",
       "      <td>1.000000</td>\n",
       "      <td>NaN</td>\n",
       "    </tr>\n",
       "    <tr>\n",
       "      <th>max</th>\n",
       "      <td>NaN</td>\n",
       "      <td>NaN</td>\n",
       "      <td>NaN</td>\n",
       "      <td>NaN</td>\n",
       "      <td>NaN</td>\n",
       "      <td>NaN</td>\n",
       "      <td>72529.000000</td>\n",
       "      <td>24000.000000</td>\n",
       "      <td>550.000000</td>\n",
       "      <td>480.000000</td>\n",
       "      <td>1.000000</td>\n",
       "      <td>NaN</td>\n",
       "    </tr>\n",
       "  </tbody>\n",
       "</table>\n",
       "</div>"
      ],
      "text/plain": [
       "         Loan_ID Gender Married Dependents Education Self_Employed  \\\n",
       "count        367    356     367        357       367           344   \n",
       "unique       367      2       2          4         2             2   \n",
       "top     LP002605   Male     Yes          0  Graduate            No   \n",
       "freq           1    286     233        200       283           307   \n",
       "mean         NaN    NaN     NaN        NaN       NaN           NaN   \n",
       "std          NaN    NaN     NaN        NaN       NaN           NaN   \n",
       "min          NaN    NaN     NaN        NaN       NaN           NaN   \n",
       "25%          NaN    NaN     NaN        NaN       NaN           NaN   \n",
       "50%          NaN    NaN     NaN        NaN       NaN           NaN   \n",
       "75%          NaN    NaN     NaN        NaN       NaN           NaN   \n",
       "max          NaN    NaN     NaN        NaN       NaN           NaN   \n",
       "\n",
       "        ApplicantIncome  CoapplicantIncome  LoanAmount  Loan_Amount_Term  \\\n",
       "count        367.000000         367.000000  362.000000        361.000000   \n",
       "unique              NaN                NaN         NaN               NaN   \n",
       "top                 NaN                NaN         NaN               NaN   \n",
       "freq                NaN                NaN         NaN               NaN   \n",
       "mean        4805.599455        1569.577657  136.132597        342.537396   \n",
       "std         4910.685399        2334.232099   61.366652         65.156643   \n",
       "min            0.000000           0.000000   28.000000          6.000000   \n",
       "25%         2864.000000           0.000000  100.250000        360.000000   \n",
       "50%         3786.000000        1025.000000  125.000000        360.000000   \n",
       "75%         5060.000000        2430.500000  158.000000        360.000000   \n",
       "max        72529.000000       24000.000000  550.000000        480.000000   \n",
       "\n",
       "        Credit_History Property_Area  \n",
       "count       338.000000           367  \n",
       "unique             NaN             3  \n",
       "top                NaN         Urban  \n",
       "freq               NaN           140  \n",
       "mean          0.825444           NaN  \n",
       "std           0.380150           NaN  \n",
       "min           0.000000           NaN  \n",
       "25%           1.000000           NaN  \n",
       "50%           1.000000           NaN  \n",
       "75%           1.000000           NaN  \n",
       "max           1.000000           NaN  "
      ]
     },
     "execution_count": 8,
     "metadata": {},
     "output_type": "execute_result"
    }
   ],
   "source": [
    "loan_test.describe(include='all')"
   ]
  },
  {
   "cell_type": "code",
   "execution_count": 9,
   "metadata": {
    "ExecuteTime": {
     "end_time": "2020-12-08T12:26:08.703414Z",
     "start_time": "2020-12-08T12:26:08.674398Z"
    }
   },
   "outputs": [
    {
     "data": {
      "text/plain": [
       "Loan_ID              614\n",
       "Gender                 2\n",
       "Married                2\n",
       "Dependents             4\n",
       "Education              2\n",
       "Self_Employed          2\n",
       "ApplicantIncome      505\n",
       "CoapplicantIncome    287\n",
       "LoanAmount           203\n",
       "Loan_Amount_Term      10\n",
       "Credit_History         2\n",
       "Property_Area          3\n",
       "Loan_Status            2\n",
       "dtype: int64"
      ]
     },
     "execution_count": 9,
     "metadata": {},
     "output_type": "execute_result"
    }
   ],
   "source": [
    "#checking for unique values of each feature\n",
    "loan_train.nunique()"
   ]
  },
  {
   "cell_type": "code",
   "execution_count": 10,
   "metadata": {
    "ExecuteTime": {
     "end_time": "2020-12-08T12:26:08.735235Z",
     "start_time": "2020-12-08T12:26:08.707333Z"
    }
   },
   "outputs": [
    {
     "data": {
      "text/plain": [
       "Loan_ID              367\n",
       "Gender                 2\n",
       "Married                2\n",
       "Dependents             4\n",
       "Education              2\n",
       "Self_Employed          2\n",
       "ApplicantIncome      314\n",
       "CoapplicantIncome    194\n",
       "LoanAmount           144\n",
       "Loan_Amount_Term      12\n",
       "Credit_History         2\n",
       "Property_Area          3\n",
       "dtype: int64"
      ]
     },
     "execution_count": 10,
     "metadata": {},
     "output_type": "execute_result"
    }
   ],
   "source": [
    "loan_test.nunique()"
   ]
  },
  {
   "cell_type": "markdown",
   "metadata": {},
   "source": [
    "From this we can see that there is no difference in categorical attributes of both train and test sets."
   ]
  },
  {
   "cell_type": "code",
   "execution_count": 11,
   "metadata": {
    "ExecuteTime": {
     "end_time": "2020-12-08T12:26:08.766197Z",
     "start_time": "2020-12-08T12:26:08.740222Z"
    }
   },
   "outputs": [
    {
     "data": {
      "text/plain": [
       "Loan_ID               0\n",
       "Gender               13\n",
       "Married               3\n",
       "Dependents           15\n",
       "Education             0\n",
       "Self_Employed        32\n",
       "ApplicantIncome       0\n",
       "CoapplicantIncome     0\n",
       "LoanAmount           22\n",
       "Loan_Amount_Term     14\n",
       "Credit_History       50\n",
       "Property_Area         0\n",
       "Loan_Status           0\n",
       "dtype: int64"
      ]
     },
     "execution_count": 11,
     "metadata": {},
     "output_type": "execute_result"
    }
   ],
   "source": [
    "#checking for missing values\n",
    "loan_train.isnull().sum()"
   ]
  },
  {
   "cell_type": "code",
   "execution_count": 12,
   "metadata": {
    "ExecuteTime": {
     "end_time": "2020-12-08T12:26:08.797439Z",
     "start_time": "2020-12-08T12:26:08.772138Z"
    }
   },
   "outputs": [
    {
     "data": {
      "text/plain": [
       "Loan_ID               0\n",
       "Gender               11\n",
       "Married               0\n",
       "Dependents           10\n",
       "Education             0\n",
       "Self_Employed        23\n",
       "ApplicantIncome       0\n",
       "CoapplicantIncome     0\n",
       "LoanAmount            5\n",
       "Loan_Amount_Term      6\n",
       "Credit_History       29\n",
       "Property_Area         0\n",
       "dtype: int64"
      ]
     },
     "execution_count": 12,
     "metadata": {},
     "output_type": "execute_result"
    }
   ],
   "source": [
    "loan_test.isnull().sum()"
   ]
  },
  {
   "cell_type": "markdown",
   "metadata": {},
   "source": [
    "We will be imputing missing values after performing EDA."
   ]
  },
  {
   "cell_type": "markdown",
   "metadata": {},
   "source": [
    "## EDA\n",
    "We will be performing Bivariate Analysis"
   ]
  },
  {
   "cell_type": "markdown",
   "metadata": {},
   "source": [
    "### Gender"
   ]
  },
  {
   "cell_type": "code",
   "execution_count": 13,
   "metadata": {
    "ExecuteTime": {
     "end_time": "2020-12-08T12:26:09.252887Z",
     "start_time": "2020-12-08T12:26:08.805260Z"
    }
   },
   "outputs": [
    {
     "data": {
      "image/png": "[encoded data removed]",
      "text/plain": [
       "<Figure size 432x288 with 1 Axes>"
      ]
     },
     "metadata": {
      "needs_background": "light"
     },
     "output_type": "display_data"
    }
   ],
   "source": [
    "sns.countplot(x='Gender',hue='Loan_Status',data=loan_train);"
   ]
  },
  {
   "cell_type": "markdown",
   "metadata": {},
   "source": [
    "### Married"
   ]
  },
  {
   "cell_type": "code",
   "execution_count": 14,
   "metadata": {
    "ExecuteTime": {
     "end_time": "2020-12-08T12:26:09.596250Z",
     "start_time": "2020-12-08T12:26:09.254844Z"
    }
   },
   "outputs": [
    {
     "data": {
      "image/png": "[encoded data removed]",
      "text/plain": [
       "<Figure size 432x288 with 1 Axes>"
      ]
     },
     "metadata": {
      "needs_background": "light"
     },
     "output_type": "display_data"
    }
   ],
   "source": [
    "sns.countplot(x='Married',hue='Loan_Status',data=loan_train);"
   ]
  },
  {
   "cell_type": "markdown",
   "metadata": {},
   "source": [
    "### Dependents"
   ]
  },
  {
   "cell_type": "code",
   "execution_count": 15,
   "metadata": {
    "ExecuteTime": {
     "end_time": "2020-12-08T12:26:10.064565Z",
     "start_time": "2020-12-08T12:26:09.600237Z"
    }
   },
   "outputs": [
    {
     "data": {
      "image/png": "[encoded data removed]",
      "text/plain": [
       "<Figure size 432x288 with 1 Axes>"
      ]
     },
     "metadata": {
      "needs_background": "light"
     },
     "output_type": "display_data"
    }
   ],
   "source": [
    "sns.countplot(x='Dependents',hue='Loan_Status',data=loan_train);"
   ]
  },
  {
   "cell_type": "markdown",
   "metadata": {},
   "source": [
    "### Education"
   ]
  },
  {
   "cell_type": "code",
   "execution_count": 16,
   "metadata": {
    "ExecuteTime": {
     "end_time": "2020-12-08T12:26:10.439773Z",
     "start_time": "2020-12-08T12:26:10.069305Z"
    }
   },
   "outputs": [
    {
     "data": {
      "image/png": "[encoded data removed]",
      "text/plain": [
       "<Figure size 432x288 with 1 Axes>"
      ]
     },
     "metadata": {
      "needs_background": "light"
     },
     "output_type": "display_data"
    }
   ],
   "source": [
    "sns.countplot(x='Education',hue='Loan_Status',data=loan_train);"
   ]
  },
  {
   "cell_type": "markdown",
   "metadata": {},
   "source": [
    "### Self Employed"
   ]
  },
  {
   "cell_type": "code",
   "execution_count": 17,
   "metadata": {
    "ExecuteTime": {
     "end_time": "2020-12-08T12:26:10.834695Z",
     "start_time": "2020-12-08T12:26:10.443293Z"
    }
   },
   "outputs": [
    {
     "data": {
      "image/png": "[encoded data removed]",
      "text/plain": [
       "<Figure size 432x288 with 1 Axes>"
      ]
     },
     "metadata": {
      "needs_background": "light"
     },
     "output_type": "display_data"
    }
   ],
   "source": [
    "sns.countplot(x='Self_Employed',hue='Loan_Status',data=loan_train);"
   ]
  },
  {
   "cell_type": "markdown",
   "metadata": {},
   "source": [
    "### ApplicantIncome"
   ]
  },
  {
   "cell_type": "code",
   "execution_count": 18,
   "metadata": {
    "ExecuteTime": {
     "end_time": "2020-12-08T12:26:11.212685Z",
     "start_time": "2020-12-08T12:26:10.837952Z"
    }
   },
   "outputs": [
    {
     "data": {
      "image/png": "[encoded data removed]",
      "text/plain": [
       "<Figure size 432x288 with 1 Axes>"
      ]
     },
     "metadata": {
      "needs_background": "light"
     },
     "output_type": "display_data"
    }
   ],
   "source": [
    "sns.boxplot(x='Loan_Status',y='ApplicantIncome',data=loan_train);"
   ]
  },
  {
   "cell_type": "markdown",
   "metadata": {},
   "source": [
    "### CoapplicantIncome"
   ]
  },
  {
   "cell_type": "code",
   "execution_count": 19,
   "metadata": {
    "ExecuteTime": {
     "end_time": "2020-12-08T12:26:11.461961Z",
     "start_time": "2020-12-08T12:26:11.217027Z"
    }
   },
   "outputs": [
    {
     "data": {
      "image/png": "[encoded data removed]",
      "text/plain": [
       "<Figure size 432x288 with 1 Axes>"
      ]
     },
     "metadata": {
      "needs_background": "light"
     },
     "output_type": "display_data"
    }
   ],
   "source": [
    "sns.stripplot(x='Loan_Status',y='CoapplicantIncome',data=loan_train);"
   ]
  },
  {
   "cell_type": "markdown",
   "metadata": {},
   "source": [
    "### LoanAmount"
   ]
  },
  {
   "cell_type": "code",
   "execution_count": 20,
   "metadata": {
    "ExecuteTime": {
     "end_time": "2020-12-08T12:26:11.760074Z",
     "start_time": "2020-12-08T12:26:11.466017Z"
    }
   },
   "outputs": [
    {
     "data": {
      "image/png": "[encoded data removed]",
      "text/plain": [
       "<Figure size 432x288 with 1 Axes>"
      ]
     },
     "metadata": {
      "needs_background": "light"
     },
     "output_type": "display_data"
    }
   ],
   "source": [
    "sns.stripplot(x='Loan_Status',y='LoanAmount',data=loan_train);"
   ]
  },
  {
   "cell_type": "markdown",
   "metadata": {},
   "source": [
    "### Loan_Amount_Term"
   ]
  },
  {
   "cell_type": "code",
   "execution_count": 21,
   "metadata": {
    "ExecuteTime": {
     "end_time": "2020-12-08T12:26:12.341805Z",
     "start_time": "2020-12-08T12:26:11.763982Z"
    }
   },
   "outputs": [
    {
     "data": {
      "image/png": "[encoded data removed]",
      "text/plain": [
       "<Figure size 432x288 with 1 Axes>"
      ]
     },
     "metadata": {
      "needs_background": "light"
     },
     "output_type": "display_data"
    }
   ],
   "source": [
    "sns.countplot(hue='Loan_Status',x='Loan_Amount_Term',data=loan_train);"
   ]
  },
  {
   "cell_type": "markdown",
   "metadata": {},
   "source": [
    "### Credit_History"
   ]
  },
  {
   "cell_type": "code",
   "execution_count": 22,
   "metadata": {
    "ExecuteTime": {
     "end_time": "2020-12-08T12:26:12.704432Z",
     "start_time": "2020-12-08T12:26:12.351204Z"
    }
   },
   "outputs": [
    {
     "data": {
      "image/png": "[encoded data removed]",
      "text/plain": [
       "<Figure size 432x288 with 1 Axes>"
      ]
     },
     "metadata": {
      "needs_background": "light"
     },
     "output_type": "display_data"
    }
   ],
   "source": [
    "sns.countplot(hue='Loan_Status',x='Credit_History',data=loan_train);"
   ]
  },
  {
   "cell_type": "markdown",
   "metadata": {},
   "source": [
    "### Property_Area"
   ]
  },
  {
   "cell_type": "code",
   "execution_count": 23,
   "metadata": {
    "ExecuteTime": {
     "end_time": "2020-12-08T12:26:13.145196Z",
     "start_time": "2020-12-08T12:26:12.710631Z"
    }
   },
   "outputs": [
    {
     "data": {
      "image/png": "[encoded data removed]",
      "text/plain": [
       "<Figure size 432x288 with 1 Axes>"
      ]
     },
     "metadata": {
      "needs_background": "light"
     },
     "output_type": "display_data"
    }
   ],
   "source": [
    "sns.countplot(hue='Loan_Status',x='Property_Area',data=loan_train);"
   ]
  },
  {
   "cell_type": "markdown",
   "metadata": {},
   "source": [
    "### Loan_Status (univariate)"
   ]
  },
  {
   "cell_type": "code",
   "execution_count": 24,
   "metadata": {
    "ExecuteTime": {
     "end_time": "2020-12-08T12:26:13.428991Z",
     "start_time": "2020-12-08T12:26:13.149026Z"
    }
   },
   "outputs": [
    {
     "data": {
      "image/png": "[encoded data removed]",
      "text/plain": [
       "<Figure size 432x288 with 1 Axes>"
      ]
     },
     "metadata": {
      "needs_background": "light"
     },
     "output_type": "display_data"
    }
   ],
   "source": [
    "sns.countplot(x='Loan_Status',data=loan_train);"
   ]
  },
  {
   "cell_type": "markdown",
   "metadata": {},
   "source": [
    "## Imputation"
   ]
  },
  {
   "cell_type": "code",
   "execution_count": 25,
   "metadata": {
    "ExecuteTime": {
     "end_time": "2020-12-08T12:26:13.444714Z",
     "start_time": "2020-12-08T12:26:13.432986Z"
    }
   },
   "outputs": [
    {
     "data": {
      "text/plain": [
       "280.0"
      ]
     },
     "execution_count": 25,
     "metadata": {},
     "output_type": "execute_result"
    }
   ],
   "source": [
    "#Median Imputaion\n",
    "statistics.median_low(loan_train['LoanAmount'])"
   ]
  },
  {
   "cell_type": "code",
   "execution_count": 26,
   "metadata": {
    "ExecuteTime": {
     "end_time": "2020-12-08T12:26:13.476210Z",
     "start_time": "2020-12-08T12:26:13.448286Z"
    }
   },
   "outputs": [],
   "source": [
    "loan_train['LoanAmount'].fillna(280.0,inplace=True)"
   ]
  },
  {
   "cell_type": "code",
   "execution_count": 27,
   "metadata": {
    "ExecuteTime": {
     "end_time": "2020-12-08T12:26:13.508206Z",
     "start_time": "2020-12-08T12:26:13.482194Z"
    }
   },
   "outputs": [
    {
     "data": {
      "text/plain": [
       "135.0"
      ]
     },
     "execution_count": 27,
     "metadata": {},
     "output_type": "execute_result"
    }
   ],
   "source": [
    "statistics.median_low(loan_test['LoanAmount'])"
   ]
  },
  {
   "cell_type": "code",
   "execution_count": 28,
   "metadata": {
    "ExecuteTime": {
     "end_time": "2020-12-08T12:26:13.524082Z",
     "start_time": "2020-12-08T12:26:13.514110Z"
    }
   },
   "outputs": [],
   "source": [
    "loan_test['LoanAmount'].fillna(135.0,inplace=True)"
   ]
  },
  {
   "cell_type": "code",
   "execution_count": 29,
   "metadata": {
    "ExecuteTime": {
     "end_time": "2020-12-08T12:26:13.711880Z",
     "start_time": "2020-12-08T12:26:13.530068Z"
    }
   },
   "outputs": [],
   "source": [
    "#Mode Imputaion\n",
    "loan_train['Gender'] = loan_train['Gender'].fillna(loan_train['Gender'].mode()[0])\n",
    "loan_train['Married'] = loan_train['Married'].fillna(loan_train['Married'].mode()[0])\n",
    "loan_train['Dependents'] = loan_train['Dependents'].fillna(loan_train['Dependents'].mode()[0])\n",
    "loan_train['Self_Employed'] = loan_train['Self_Employed'].fillna(loan_train['Self_Employed'].mode()[0])\n",
    "loan_train['Loan_Amount_Term'] = loan_train['Loan_Amount_Term'].fillna(loan_train['Loan_Amount_Term'].mode()[0])\n",
    "loan_train['Credit_History'] = loan_train['Credit_History'].fillna(loan_train['Credit_History'].mode()[0])"
   ]
  },
  {
   "cell_type": "code",
   "execution_count": 30,
   "metadata": {
    "ExecuteTime": {
     "end_time": "2020-12-08T12:26:13.743250Z",
     "start_time": "2020-12-08T12:26:13.717811Z"
    }
   },
   "outputs": [],
   "source": [
    "loan_test['Gender'] = loan_test['Gender'].fillna(loan_test['Gender'].mode()[0])\n",
    "loan_test['Dependents'] = loan_test['Dependents'].fillna(loan_test['Dependents'].mode()[0])\n",
    "loan_test['Self_Employed'] = loan_test['Self_Employed'].fillna(loan_test['Self_Employed'].mode()[0])\n",
    "loan_test['Loan_Amount_Term'] = loan_test['Loan_Amount_Term'].fillna(loan_test['Loan_Amount_Term'].mode()[0])\n",
    "loan_test['Credit_History'] = loan_test['Credit_History'].fillna(loan_test['Credit_History'].mode()[0])"
   ]
  },
  {
   "cell_type": "markdown",
   "metadata": {},
   "source": [
    "We will replace `3+` in **Dependents**."
   ]
  },
  {
   "cell_type": "code",
   "execution_count": 31,
   "metadata": {
    "ExecuteTime": {
     "end_time": "2020-12-08T12:26:13.758815Z",
     "start_time": "2020-12-08T12:26:13.747734Z"
    }
   },
   "outputs": [],
   "source": [
    "loan_train['Dependents']=loan_train['Dependents'].replace(\"3+\",\"3\")\n",
    "loan_test['Dependents']=loan_test['Dependents'].replace(\"3+\",\"3\")\n",
    "\n",
    "loan_train['Dependents']=loan_train['Dependents'].astype('int64')\n",
    "loan_test['Dependents']=loan_test['Dependents'].astype('int64')"
   ]
  },
  {
   "cell_type": "markdown",
   "metadata": {},
   "source": [
    "## Dummification of categorical variables"
   ]
  },
  {
   "cell_type": "code",
   "execution_count": 32,
   "metadata": {
    "ExecuteTime": {
     "end_time": "2020-12-08T12:26:13.805691Z",
     "start_time": "2020-12-08T12:26:13.762689Z"
    }
   },
   "outputs": [],
   "source": [
    "#on train set\n",
    "#one hot encoding each categorical attribute\n",
    "dummy_tr_1=pd.get_dummies(loan_train['Gender'],drop_first=True,prefix='Gender',prefix_sep='_')\n",
    "dummy_tr_2=pd.get_dummies(loan_train['Married'],drop_first=True,prefix='Married',prefix_sep='_')\n",
    "dummy_tr_3=pd.get_dummies(loan_train['Education'],drop_first=True,prefix='Education',prefix_sep='_')\n",
    "dummy_tr_4=pd.get_dummies(loan_train['Self_Employed'],drop_first=True,prefix='Self_Employed',prefix_sep='_')\n",
    "dummy_tr_5=pd.get_dummies(loan_train['Property_Area'],drop_first=True,prefix='Property_Area',prefix_sep='_')\n",
    "\n",
    "#concatenating one hot encoded attributes with original train set\n",
    "loan_train=pd.concat([loan_train,dummy_tr_1,dummy_tr_2,dummy_tr_3,dummy_tr_4,dummy_tr_5],axis=1)\n",
    "\n",
    "#Removing the original columns (one hot encoded attributes)\n",
    "loan_train=loan_train.drop(columns=['Property_Area','Gender','Married','Self_Employed','Education'])"
   ]
  },
  {
   "cell_type": "code",
   "execution_count": 33,
   "metadata": {
    "ExecuteTime": {
     "end_time": "2020-12-08T12:26:13.836537Z",
     "start_time": "2020-12-08T12:26:13.808567Z"
    }
   },
   "outputs": [],
   "source": [
    "#on test set\n",
    "dummy_te_1=pd.get_dummies(loan_test['Gender'],drop_first=True,prefix='Gender',prefix_sep='_')\n",
    "dummy_te_2=pd.get_dummies(loan_test['Married'],drop_first=True,prefix='Married',prefix_sep='_')\n",
    "dummy_te_3=pd.get_dummies(loan_test['Education'],drop_first=True,prefix='Education',prefix_sep='_')\n",
    "dummy_te_4=pd.get_dummies(loan_test['Self_Employed'],drop_first=True,prefix='Self_Employed',prefix_sep='_')\n",
    "dummy_te_5=pd.get_dummies(loan_test['Property_Area'],drop_first=True,prefix='Property_Area',prefix_sep='_')\n",
    "loan_test=pd.concat([loan_test,dummy_te_1,dummy_te_2,dummy_te_3,dummy_te_4,dummy_te_5],axis=1)\n",
    "loan_test=loan_test.drop(columns=['Property_Area','Gender','Married','Self_Employed','Education'])"
   ]
  },
  {
   "cell_type": "markdown",
   "metadata": {},
   "source": [
    "## Assinging X and y"
   ]
  },
  {
   "cell_type": "code",
   "execution_count": 34,
   "metadata": {
    "ExecuteTime": {
     "end_time": "2020-12-08T12:26:13.852449Z",
     "start_time": "2020-12-08T12:26:13.839483Z"
    }
   },
   "outputs": [],
   "source": [
    "X = loan_train.drop(columns=['Loan_ID','Loan_Status'])\n",
    "y = loan_train['Loan_Status']\n",
    "\n",
    "test = loan_test.drop(columns=['Loan_ID'])"
   ]
  },
  {
   "cell_type": "markdown",
   "metadata": {},
   "source": [
    "## Train Validation Split"
   ]
  },
  {
   "cell_type": "code",
   "execution_count": 35,
   "metadata": {
    "ExecuteTime": {
     "end_time": "2020-12-08T12:26:13.868406Z",
     "start_time": "2020-12-08T12:26:13.856439Z"
    }
   },
   "outputs": [],
   "source": [
    "X_train,X_val,y_train,y_val=train_test_split(X,y,test_size=0.25,\n",
    "                                             random_state=77)"
   ]
  },
  {
   "cell_type": "markdown",
   "metadata": {},
   "source": [
    "## Model Building"
   ]
  },
  {
   "cell_type": "markdown",
   "metadata": {},
   "source": [
    "### Logistic Regression"
   ]
  },
  {
   "cell_type": "code",
   "execution_count": 36,
   "metadata": {
    "ExecuteTime": {
     "end_time": "2020-12-08T12:26:13.993073Z",
     "start_time": "2020-12-08T12:26:13.871398Z"
    }
   },
   "outputs": [
    {
     "name": "stdout",
     "output_type": "stream",
     "text": [
      "Train Accuracy\n",
      "80.43478260869566\n",
      "Validation Accuracy\n",
      "83.76623376623377\n"
     ]
    }
   ],
   "source": [
    "LR=LogisticRegression()\n",
    "LR.fit(X_train,y_train)\n",
    "\n",
    "y_pred_LR_tr=LR.predict(X_train)\n",
    "y_pred_LR_val=LR.predict(X_val)\n",
    "\n",
    "ac_lr_tr=accuracy_score(y_train,y_pred_LR_tr)\n",
    "ac_lr_val=accuracy_score(y_val,y_pred_LR_val)\n",
    "\n",
    "print('Train Accuracy')\n",
    "print(ac_lr_tr*100)\n",
    "print('Validation Accuracy')\n",
    "print(ac_lr_val*100)"
   ]
  },
  {
   "cell_type": "markdown",
   "metadata": {},
   "source": [
    "#### GridSearchCV (Logistic Regression)"
   ]
  },
  {
   "cell_type": "code",
   "execution_count": 38,
   "metadata": {
    "ExecuteTime": {
     "end_time": "2020-12-08T12:27:03.607086Z",
     "start_time": "2020-12-08T12:26:55.502076Z"
    }
   },
   "outputs": [
    {
     "data": {
      "text/plain": [
       "{'C': 10, 'class_weight': None, 'solver': 'newton-cg'}"
      ]
     },
     "execution_count": 38,
     "metadata": {},
     "output_type": "execute_result"
    }
   ],
   "source": [
    "LR_GS=LogisticRegression()\n",
    "\n",
    "scorers = {'accuracy_score': make_scorer(accuracy_score)}\n",
    "\n",
    "params_grid_LR={'class_weight':['balanced',None], #2\n",
    "                'C':[0.00001,0.0001,0.001,0.1,1,10,100], #7\n",
    "                'solver':['newton-cg','sag','lbfgs']} #3\n",
    "\n",
    "grid_search_LR=GridSearchCV(LR_GS,params_grid_LR,\n",
    "                            n_jobs=-1,scoring=scorers,cv=5,refit='accuracy_score')\n",
    "\n",
    "grid_search_LR.fit(X_train,y_train)\n",
    "grid_search_LR.best_params_"
   ]
  },
  {
   "cell_type": "markdown",
   "metadata": {},
   "source": [
    "Now we will apply above parameters"
   ]
  },
  {
   "cell_type": "code",
   "execution_count": 39,
   "metadata": {
    "ExecuteTime": {
     "end_time": "2020-12-08T12:27:06.591286Z",
     "start_time": "2020-12-08T12:27:06.229009Z"
    }
   },
   "outputs": [
    {
     "name": "stdout",
     "output_type": "stream",
     "text": [
      "Train Accuracy\n",
      "81.08695652173913\n",
      "Validation Accuracy\n",
      "82.46753246753246\n"
     ]
    }
   ],
   "source": [
    "LR_after=LogisticRegression(C=10,class_weight=None,solver='newton-cg')\n",
    "LR_after.fit(X_train,y_train)\n",
    "y_pred_LR_after_val=LR_after.predict(X_val)\n",
    "y_pred_LR_after_tr=LR_after.predict(X_train)\n",
    "\n",
    "ac_lr_tuned_val=accuracy_score(y_val,y_pred_LR_after_val)\n",
    "ac_lr_tuned_tr=accuracy_score(y_train,y_pred_LR_after_tr)\n",
    "\n",
    "print('Train Accuracy')\n",
    "print(ac_lr_tuned_tr*100)\n",
    "print('Validation Accuracy')\n",
    "print(ac_lr_tuned_val*100)"
   ]
  },
  {
   "cell_type": "code",
   "execution_count": 40,
   "metadata": {
    "ExecuteTime": {
     "end_time": "2020-12-08T12:27:06.699539Z",
     "start_time": "2020-12-08T12:27:06.680592Z"
    }
   },
   "outputs": [],
   "source": [
    "prediction_LR_after=LR_after.predict(test)\n",
    "\n",
    "submission=pd.DataFrame({\"Loan_ID\":loan_test[\"Loan_ID\"],\"Loan_Status\":prediction_LR_after})\n",
    "submission.to_csv('sub_lr_after.csv',index=False)"
   ]
  },
  {
   "cell_type": "markdown",
   "metadata": {},
   "source": [
    "### Decision Tree"
   ]
  },
  {
   "cell_type": "code",
   "execution_count": 41,
   "metadata": {
    "ExecuteTime": {
     "end_time": "2020-12-08T12:27:07.680172Z",
     "start_time": "2020-12-08T12:27:07.640405Z"
    }
   },
   "outputs": [
    {
     "name": "stdout",
     "output_type": "stream",
     "text": [
      "Train Accuracy\n",
      "81.08695652173913\n",
      "Validation Accuracy\n",
      "82.46753246753246\n"
     ]
    }
   ],
   "source": [
    "Dt=DecisionTreeClassifier(max_depth=3,criterion='entropy')\n",
    "Dt.fit(X_train,y_train)\n",
    "\n",
    "y_pred_Dt_tr=Dt.predict(X_train)\n",
    "y_pred_Dt_val=Dt.predict(X_val)\n",
    "\n",
    "ac_Dt_tr=accuracy_score(y_train,y_pred_Dt_tr)\n",
    "ac_Dt_val=accuracy_score(y_val,y_pred_Dt_val)\n",
    "\n",
    "print('Train Accuracy')\n",
    "print(ac_Dt_tr*100)\n",
    "print('Validation Accuracy')\n",
    "print(ac_Dt_val*100)"
   ]
  },
  {
   "cell_type": "markdown",
   "metadata": {},
   "source": [
    "#### GridSearchcv Decision Tree"
   ]
  },
  {
   "cell_type": "code",
   "execution_count": 42,
   "metadata": {
    "ExecuteTime": {
     "end_time": "2020-12-08T12:27:08.601602Z",
     "start_time": "2020-12-08T12:27:08.169740Z"
    }
   },
   "outputs": [
    {
     "data": {
      "text/plain": [
       "{'criterion': 'entropy', 'max_depth': 3, 'splitter': 'random'}"
      ]
     },
     "execution_count": 42,
     "metadata": {},
     "output_type": "execute_result"
    }
   ],
   "source": [
    "Dt_GS=DecisionTreeClassifier()\n",
    "\n",
    "scorers = {'accuracy_score': make_scorer(accuracy_score)}\n",
    "\n",
    "params_grid_Dt={'criterion':['gini', 'entropy'], #2\n",
    "                'splitter':['best', 'random'],#2\n",
    "                'max_depth':[3,4,5,6]} #4\n",
    "\n",
    "grid_search_Dt=GridSearchCV(Dt_GS,params_grid_Dt,\n",
    "                            n_jobs=-1,scoring=scorers,cv=5,refit='accuracy_score')\n",
    "\n",
    "grid_search_Dt.fit(X_train,y_train)\n",
    "grid_search_Dt.best_params_"
   ]
  },
  {
   "cell_type": "code",
   "execution_count": 43,
   "metadata": {
    "ExecuteTime": {
     "end_time": "2020-12-08T12:27:08.633245Z",
     "start_time": "2020-12-08T12:27:08.604595Z"
    }
   },
   "outputs": [
    {
     "name": "stdout",
     "output_type": "stream",
     "text": [
      "Train Accuracy\n",
      "80.65217391304348\n",
      "Validation Accuracy\n",
      "82.46753246753246\n"
     ]
    }
   ],
   "source": [
    "# Applying above parameters\n",
    "\n",
    "Dt_after = DecisionTreeClassifier(max_depth=3,criterion='gini',splitter= 'random')\n",
    "Dt_after.fit(X_train,y_train)\n",
    "\n",
    "y_pred_Dt_after_tr=Dt_after.predict(X_train)\n",
    "y_pred_Dt_after_val=Dt_after.predict(X_val)\n",
    "\n",
    "ac_Dt_after_tr=accuracy_score(y_train,y_pred_Dt_after_tr)\n",
    "ac_Dt_after_val=accuracy_score(y_val,y_pred_Dt_after_val)\n",
    "\n",
    "print('Train Accuracy')\n",
    "print(ac_Dt_after_tr*100)\n",
    "print('Validation Accuracy')\n",
    "print(ac_Dt_after_val*100)"
   ]
  },
  {
   "cell_type": "code",
   "execution_count": 44,
   "metadata": {
    "ExecuteTime": {
     "end_time": "2020-12-08T12:27:08.712696Z",
     "start_time": "2020-12-08T12:27:08.688720Z"
    }
   },
   "outputs": [],
   "source": [
    "prediction_Dt=Dt.predict(test)\n",
    "\n",
    "submission=pd.DataFrame({\"Loan_ID\":loan_test[\"Loan_ID\"],\"Loan_Status\":prediction_Dt})\n",
    "submission.to_csv('sub_dt.csv',index=False)"
   ]
  },
  {
   "cell_type": "markdown",
   "metadata": {},
   "source": [
    "### XGBoost"
   ]
  },
  {
   "cell_type": "code",
   "execution_count": 45,
   "metadata": {
    "ExecuteTime": {
     "end_time": "2020-12-08T12:27:10.384598Z",
     "start_time": "2020-12-08T12:27:09.085666Z"
    }
   },
   "outputs": [
    {
     "name": "stdout",
     "output_type": "stream",
     "text": [
      "Train Accuracy\n",
      "100.0\n",
      "Validation Accuracy\n",
      "78.57142857142857\n"
     ]
    }
   ],
   "source": [
    "XGB=xgb.XGBClassifier()\n",
    "XGB.fit(X_train,y_train)\n",
    "\n",
    "y_pred_XGB_tr=XGB.predict(X_train)\n",
    "y_pred_XGB_val=XGB.predict(X_val)\n",
    "\n",
    "ac_XGB_tr=accuracy_score(y_train,y_pred_XGB_tr)\n",
    "ac_XGB_val=accuracy_score(y_val,y_pred_XGB_val)\n",
    "\n",
    "print('Train Accuracy')\n",
    "print(ac_XGB_tr*100)\n",
    "print('Validation Accuracy')\n",
    "print(ac_XGB_val*100)"
   ]
  },
  {
   "cell_type": "code",
   "execution_count": 46,
   "metadata": {
    "ExecuteTime": {
     "end_time": "2020-12-08T12:27:10.414518Z",
     "start_time": "2020-12-08T12:27:10.390581Z"
    }
   },
   "outputs": [],
   "source": [
    "prediction_XGB=XGB.predict(test)\n",
    "\n",
    "submission=pd.DataFrame({\"Loan_ID\":loan_test[\"Loan_ID\"],\"Loan_Status\":prediction_XGB})\n",
    "submission.to_csv('sub_XGB.csv',index=False)"
   ]
  },
  {
   "cell_type": "markdown",
   "metadata": {},
   "source": [
    "### Random Forest"
   ]
  },
  {
   "cell_type": "code",
   "execution_count": 47,
   "metadata": {
    "ExecuteTime": {
     "end_time": "2020-12-08T12:27:10.801943Z",
     "start_time": "2020-12-08T12:27:10.419504Z"
    }
   },
   "outputs": [
    {
     "name": "stdout",
     "output_type": "stream",
     "text": [
      "Train Accuracy\n",
      "80.43478260869566\n",
      "Validation Accuracy\n",
      "82.46753246753246\n"
     ]
    }
   ],
   "source": [
    "rf=RandomForestClassifier(max_depth=3)\n",
    "rf.fit(X_train,y_train)\n",
    "\n",
    "y_pred_rf_tr=rf.predict(X_train)\n",
    "y_pred_rf_val=rf.predict(X_val)\n",
    "\n",
    "ac_rf_tr=accuracy_score(y_train,y_pred_rf_tr)\n",
    "ac_rf_val=accuracy_score(y_val,y_pred_rf_val)\n",
    "\n",
    "print('Train Accuracy')\n",
    "print(ac_rf_tr*100)\n",
    "print('Validation Accuracy')\n",
    "print(ac_rf_val*100)"
   ]
  },
  {
   "cell_type": "markdown",
   "metadata": {},
   "source": [
    "#### CrossValidation "
   ]
  },
  {
   "cell_type": "code",
   "execution_count": 48,
   "metadata": {
    "ExecuteTime": {
     "end_time": "2020-12-08T12:27:10.833859Z",
     "start_time": "2020-12-08T12:27:10.807880Z"
    }
   },
   "outputs": [],
   "source": [
    "# classify function\n",
    "from sklearn.model_selection import cross_val_score\n",
    "def classify(model, x, y):\n",
    "    x_train, x_test, y_train, y_test = train_test_split(X, y, test_size=0.25, random_state=42)\n",
    "    model.fit(x_train, y_train)\n",
    "    print(\"Accuracy is\", model.score(x_test, y_test)*100)\n",
    "    # cross validation - it is used for better validation of model\n",
    "    # eg: cv-5, train-4, test-1\n",
    "    score = cross_val_score(model, x, y, cv=10)\n",
    "    print(\"Cross validation is\",np.mean(score)*100)"
   ]
  },
  {
   "cell_type": "code",
   "execution_count": 49,
   "metadata": {
    "ExecuteTime": {
     "end_time": "2020-12-08T12:27:11.731410Z",
     "start_time": "2020-12-08T12:27:10.841790Z"
    }
   },
   "outputs": [
    {
     "name": "stdout",
     "output_type": "stream",
     "text": [
      "Accuracy is 77.92207792207793\n",
      "Cross validation is 80.47329455314647\n"
     ]
    }
   ],
   "source": [
    "from sklearn.linear_model import LogisticRegression\n",
    "model = LogisticRegression()\n",
    "classify(model, X, y)"
   ]
  },
  {
   "cell_type": "code",
   "execution_count": 50,
   "metadata": {
    "ExecuteTime": {
     "end_time": "2020-12-08T12:27:12.576370Z",
     "start_time": "2020-12-08T12:27:11.736393Z"
    }
   },
   "outputs": [
    {
     "name": "stdout",
     "output_type": "stream",
     "text": [
      "Accuracy is 77.92207792207793\n",
      "Cross validation is 80.47329455314647\n"
     ]
    }
   ],
   "source": [
    "from sklearn.tree import DecisionTreeClassifier\n",
    "model1= DecisionTreeClassifier()\n",
    "classify(model, X, y)"
   ]
  },
  {
   "cell_type": "code",
   "execution_count": 51,
   "metadata": {
    "ExecuteTime": {
     "end_time": "2020-12-08T12:27:13.440001Z",
     "start_time": "2020-12-08T12:27:12.579334Z"
    }
   },
   "outputs": [
    {
     "name": "stdout",
     "output_type": "stream",
     "text": [
      "Accuracy is 77.92207792207793\n",
      "Cross validation is 80.47329455314647\n"
     ]
    }
   ],
   "source": [
    "model2 = RandomForestClassifier(n_estimators=100, min_samples_split=25, max_depth=7, max_features=1)\n",
    "classify(model, X, y)"
   ]
  },
  {
   "cell_type": "code",
   "execution_count": 52,
   "metadata": {
    "ExecuteTime": {
     "end_time": "2020-12-08T12:27:14.308133Z",
     "start_time": "2020-12-08T12:27:13.446911Z"
    }
   },
   "outputs": [
    {
     "name": "stdout",
     "output_type": "stream",
     "text": [
      "Accuracy is 77.92207792207793\n",
      "Cross validation is 80.47329455314647\n"
     ]
    }
   ],
   "source": [
    "from sklearn.ensemble import RandomForestClassifier,ExtraTreesClassifier\n",
    "model3 = RandomForestClassifier()\n",
    "classify(model, X, y)"
   ]
  },
  {
   "cell_type": "code",
   "execution_count": 53,
   "metadata": {
    "ExecuteTime": {
     "end_time": "2020-12-08T12:27:15.288994Z",
     "start_time": "2020-12-08T12:27:14.314200Z"
    }
   },
   "outputs": [
    {
     "name": "stdout",
     "output_type": "stream",
     "text": [
      "Accuracy is 77.92207792207793\n",
      "Cross validation is 80.47329455314647\n"
     ]
    }
   ],
   "source": [
    "model4 = ExtraTreesClassifier()\n",
    "classify(model, X, y)"
   ]
  },
  {
   "cell_type": "code",
   "execution_count": 54,
   "metadata": {
    "ExecuteTime": {
     "end_time": "2020-12-08T12:27:16.391370Z",
     "start_time": "2020-12-08T12:27:15.290902Z"
    }
   },
   "outputs": [
    {
     "name": "stdout",
     "output_type": "stream",
     "text": [
      "Accuracy is 77.92207792207793\n",
      "Cross validation is 80.47329455314647\n"
     ]
    }
   ],
   "source": [
    "model5 = RandomForestClassifier(n_estimators=100, min_samples_split=25, max_depth=3, max_features=1)\n",
    "classify(model, X, y)"
   ]
  },
  {
   "cell_type": "code",
   "execution_count": 55,
   "metadata": {
    "ExecuteTime": {
     "end_time": "2020-12-08T12:27:16.452775Z",
     "start_time": "2020-12-08T12:27:16.396358Z"
    }
   },
   "outputs": [],
   "source": [
    "prediction_model1=rf.predict(test)\n",
    "\n",
    "submission=pd.DataFrame({\"Loan_ID\":loan_test[\"Loan_ID\"],\"Loan_Status\":prediction_model1})\n",
    "submission.to_csv('sub_model1.csv',index=False)"
   ]
  },
  {
   "cell_type": "code",
   "execution_count": 56,
   "metadata": {
    "ExecuteTime": {
     "end_time": "2020-12-08T12:27:19.635897Z",
     "start_time": "2020-12-08T12:27:16.457761Z"
    }
   },
   "outputs": [
    {
     "name": "stdout",
     "output_type": "stream",
     "text": [
      "Learning rate set to 0.007395\n",
      "0:\tlearn: 0.6897151\ttotal: 156ms\tremaining: 2m 35s\n",
      "1:\tlearn: 0.6861778\ttotal: 160ms\tremaining: 1m 19s\n",
      "2:\tlearn: 0.6827787\ttotal: 163ms\tremaining: 54.1s\n",
      "3:\tlearn: 0.6788309\ttotal: 166ms\tremaining: 41.2s\n",
      "4:\tlearn: 0.6756199\ttotal: 170ms\tremaining: 33.9s\n",
      "5:\tlearn: 0.6725164\ttotal: 174ms\tremaining: 28.8s\n",
      "6:\tlearn: 0.6693817\ttotal: 178ms\tremaining: 25.2s\n",
      "7:\tlearn: 0.6662391\ttotal: 181ms\tremaining: 22.4s\n",
      "8:\tlearn: 0.6632382\ttotal: 184ms\tremaining: 20.3s\n",
      "9:\tlearn: 0.6601668\ttotal: 187ms\tremaining: 18.6s\n",
      "10:\tlearn: 0.6569098\ttotal: 191ms\tremaining: 17.1s\n",
      "11:\tlearn: 0.6537762\ttotal: 193ms\tremaining: 15.9s\n",
      "12:\tlearn: 0.6508306\ttotal: 197ms\tremaining: 14.9s\n",
      "13:\tlearn: 0.6480587\ttotal: 200ms\tremaining: 14.1s\n",
      "14:\tlearn: 0.6451441\ttotal: 203ms\tremaining: 13.4s\n",
      "15:\tlearn: 0.6420428\ttotal: 207ms\tremaining: 12.7s\n",
      "16:\tlearn: 0.6393483\ttotal: 210ms\tremaining: 12.1s\n",
      "17:\tlearn: 0.6367126\ttotal: 218ms\tremaining: 11.9s\n",
      "18:\tlearn: 0.6339776\ttotal: 222ms\tremaining: 11.4s\n",
      "19:\tlearn: 0.6311916\ttotal: 226ms\tremaining: 11.1s\n",
      "20:\tlearn: 0.6285609\ttotal: 229ms\tremaining: 10.7s\n",
      "21:\tlearn: 0.6260349\ttotal: 233ms\tremaining: 10.3s\n",
      "22:\tlearn: 0.6234377\ttotal: 236ms\tremaining: 10s\n",
      "23:\tlearn: 0.6210142\ttotal: 240ms\tremaining: 9.77s\n",
      "24:\tlearn: 0.6184200\ttotal: 243ms\tremaining: 9.48s\n",
      "25:\tlearn: 0.6161422\ttotal: 247ms\tremaining: 9.24s\n",
      "26:\tlearn: 0.6137936\ttotal: 250ms\tremaining: 9s\n",
      "27:\tlearn: 0.6116003\ttotal: 253ms\tremaining: 8.77s\n",
      "28:\tlearn: 0.6094129\ttotal: 256ms\tremaining: 8.55s\n",
      "29:\tlearn: 0.6070656\ttotal: 258ms\tremaining: 8.35s\n",
      "30:\tlearn: 0.6048492\ttotal: 262ms\tremaining: 8.18s\n",
      "31:\tlearn: 0.6028107\ttotal: 265ms\tremaining: 8.01s\n",
      "32:\tlearn: 0.6007784\ttotal: 268ms\tremaining: 7.86s\n",
      "33:\tlearn: 0.5985410\ttotal: 272ms\tremaining: 7.72s\n",
      "34:\tlearn: 0.5965105\ttotal: 275ms\tremaining: 7.58s\n",
      "35:\tlearn: 0.5942484\ttotal: 278ms\tremaining: 7.44s\n",
      "36:\tlearn: 0.5920056\ttotal: 281ms\tremaining: 7.31s\n",
      "37:\tlearn: 0.5913077\ttotal: 284ms\tremaining: 7.19s\n",
      "38:\tlearn: 0.5892674\ttotal: 288ms\tremaining: 7.09s\n",
      "39:\tlearn: 0.5873895\ttotal: 290ms\tremaining: 6.97s\n",
      "40:\tlearn: 0.5853558\ttotal: 293ms\tremaining: 6.85s\n",
      "41:\tlearn: 0.5835368\ttotal: 296ms\tremaining: 6.74s\n",
      "42:\tlearn: 0.5814756\ttotal: 298ms\tremaining: 6.64s\n",
      "43:\tlearn: 0.5795624\ttotal: 301ms\tremaining: 6.54s\n",
      "44:\tlearn: 0.5777755\ttotal: 304ms\tremaining: 6.45s\n",
      "45:\tlearn: 0.5761358\ttotal: 308ms\tremaining: 6.38s\n",
      "46:\tlearn: 0.5743935\ttotal: 311ms\tremaining: 6.31s\n",
      "47:\tlearn: 0.5727144\ttotal: 314ms\tremaining: 6.23s\n",
      "48:\tlearn: 0.5711206\ttotal: 317ms\tremaining: 6.15s\n",
      "49:\tlearn: 0.5695954\ttotal: 321ms\tremaining: 6.1s\n",
      "50:\tlearn: 0.5679082\ttotal: 324ms\tremaining: 6.03s\n",
      "51:\tlearn: 0.5663347\ttotal: 327ms\tremaining: 5.97s\n",
      "52:\tlearn: 0.5646814\ttotal: 331ms\tremaining: 5.91s\n",
      "53:\tlearn: 0.5629834\ttotal: 335ms\tremaining: 5.86s\n",
      "54:\tlearn: 0.5615384\ttotal: 339ms\tremaining: 5.82s\n",
      "55:\tlearn: 0.5602006\ttotal: 343ms\tremaining: 5.78s\n",
      "56:\tlearn: 0.5586823\ttotal: 347ms\tremaining: 5.74s\n",
      "57:\tlearn: 0.5573217\ttotal: 350ms\tremaining: 5.68s\n",
      "58:\tlearn: 0.5559572\ttotal: 354ms\tremaining: 5.64s\n",
      "59:\tlearn: 0.5543916\ttotal: 358ms\tremaining: 5.61s\n",
      "60:\tlearn: 0.5531516\ttotal: 361ms\tremaining: 5.56s\n",
      "61:\tlearn: 0.5519198\ttotal: 365ms\tremaining: 5.53s\n",
      "62:\tlearn: 0.5501483\ttotal: 368ms\tremaining: 5.48s\n",
      "63:\tlearn: 0.5489258\ttotal: 372ms\tremaining: 5.44s\n",
      "64:\tlearn: 0.5474360\ttotal: 376ms\tremaining: 5.4s\n",
      "65:\tlearn: 0.5462568\ttotal: 379ms\tremaining: 5.36s\n",
      "66:\tlearn: 0.5451391\ttotal: 383ms\tremaining: 5.33s\n",
      "67:\tlearn: 0.5438699\ttotal: 386ms\tremaining: 5.3s\n",
      "68:\tlearn: 0.5428030\ttotal: 390ms\tremaining: 5.25s\n",
      "69:\tlearn: 0.5415301\ttotal: 393ms\tremaining: 5.22s\n",
      "70:\tlearn: 0.5402978\ttotal: 397ms\tremaining: 5.19s\n",
      "71:\tlearn: 0.5390802\ttotal: 401ms\tremaining: 5.17s\n",
      "72:\tlearn: 0.5379007\ttotal: 404ms\tremaining: 5.13s\n",
      "73:\tlearn: 0.5367852\ttotal: 408ms\tremaining: 5.11s\n",
      "74:\tlearn: 0.5355984\ttotal: 412ms\tremaining: 5.09s\n",
      "75:\tlearn: 0.5346446\ttotal: 416ms\tremaining: 5.06s\n",
      "76:\tlearn: 0.5336298\ttotal: 420ms\tremaining: 5.03s\n",
      "77:\tlearn: 0.5324991\ttotal: 424ms\tremaining: 5.01s\n",
      "78:\tlearn: 0.5315561\ttotal: 427ms\tremaining: 4.98s\n",
      "79:\tlearn: 0.5305662\ttotal: 430ms\tremaining: 4.95s\n",
      "80:\tlearn: 0.5293830\ttotal: 434ms\tremaining: 4.92s\n",
      "81:\tlearn: 0.5288472\ttotal: 438ms\tremaining: 4.9s\n",
      "82:\tlearn: 0.5277959\ttotal: 442ms\tremaining: 4.88s\n",
      "83:\tlearn: 0.5266272\ttotal: 446ms\tremaining: 4.86s\n",
      "84:\tlearn: 0.5257977\ttotal: 449ms\tremaining: 4.84s\n",
      "85:\tlearn: 0.5248848\ttotal: 453ms\tremaining: 4.82s\n",
      "86:\tlearn: 0.5240059\ttotal: 457ms\tremaining: 4.79s\n",
      "87:\tlearn: 0.5229122\ttotal: 460ms\tremaining: 4.76s\n",
      "88:\tlearn: 0.5221007\ttotal: 463ms\tremaining: 4.74s\n",
      "89:\tlearn: 0.5212929\ttotal: 466ms\tremaining: 4.72s\n",
      "90:\tlearn: 0.5203081\ttotal: 470ms\tremaining: 4.7s\n",
      "91:\tlearn: 0.5193889\ttotal: 474ms\tremaining: 4.68s\n",
      "92:\tlearn: 0.5184573\ttotal: 479ms\tremaining: 4.67s\n",
      "93:\tlearn: 0.5174402\ttotal: 483ms\tremaining: 4.66s\n",
      "94:\tlearn: 0.5165493\ttotal: 486ms\tremaining: 4.63s\n",
      "95:\tlearn: 0.5158296\ttotal: 489ms\tremaining: 4.61s\n",
      "96:\tlearn: 0.5151547\ttotal: 492ms\tremaining: 4.58s\n",
      "97:\tlearn: 0.5146913\ttotal: 495ms\tremaining: 4.56s\n",
      "98:\tlearn: 0.5143893\ttotal: 498ms\tremaining: 4.54s\n",
      "99:\tlearn: 0.5138828\ttotal: 501ms\tremaining: 4.51s\n",
      "100:\tlearn: 0.5130365\ttotal: 505ms\tremaining: 4.49s\n",
      "101:\tlearn: 0.5126527\ttotal: 508ms\tremaining: 4.47s\n",
      "102:\tlearn: 0.5118492\ttotal: 511ms\tremaining: 4.45s\n",
      "103:\tlearn: 0.5112247\ttotal: 514ms\tremaining: 4.42s\n",
      "104:\tlearn: 0.5101390\ttotal: 516ms\tremaining: 4.4s\n",
      "105:\tlearn: 0.5098438\ttotal: 519ms\tremaining: 4.38s\n",
      "106:\tlearn: 0.5090971\ttotal: 522ms\tremaining: 4.35s\n",
      "107:\tlearn: 0.5082054\ttotal: 524ms\tremaining: 4.33s\n",
      "108:\tlearn: 0.5076371\ttotal: 527ms\tremaining: 4.31s\n",
      "109:\tlearn: 0.5069469\ttotal: 530ms\tremaining: 4.29s\n",
      "110:\tlearn: 0.5061975\ttotal: 534ms\tremaining: 4.28s\n",
      "111:\tlearn: 0.5054276\ttotal: 538ms\tremaining: 4.26s\n",
      "112:\tlearn: 0.5046827\ttotal: 542ms\tremaining: 4.25s\n",
      "113:\tlearn: 0.5043899\ttotal: 546ms\tremaining: 4.24s\n",
      "114:\tlearn: 0.5039459\ttotal: 552ms\tremaining: 4.25s\n",
      "115:\tlearn: 0.5033151\ttotal: 557ms\tremaining: 4.25s\n",
      "116:\tlearn: 0.5030518\ttotal: 578ms\tremaining: 4.36s\n",
      "117:\tlearn: 0.5025047\ttotal: 581ms\tremaining: 4.34s\n",
      "118:\tlearn: 0.5021501\ttotal: 584ms\tremaining: 4.33s\n",
      "119:\tlearn: 0.5018340\ttotal: 588ms\tremaining: 4.31s\n",
      "120:\tlearn: 0.5011143\ttotal: 591ms\tremaining: 4.29s\n",
      "121:\tlearn: 0.5003259\ttotal: 594ms\tremaining: 4.28s\n",
      "122:\tlearn: 0.4999474\ttotal: 597ms\tremaining: 4.26s\n",
      "123:\tlearn: 0.4992578\ttotal: 601ms\tremaining: 4.24s\n",
      "124:\tlearn: 0.4988438\ttotal: 605ms\tremaining: 4.23s\n",
      "125:\tlearn: 0.4981437\ttotal: 608ms\tremaining: 4.22s\n",
      "126:\tlearn: 0.4976790\ttotal: 611ms\tremaining: 4.2s\n",
      "127:\tlearn: 0.4970212\ttotal: 614ms\tremaining: 4.19s\n",
      "128:\tlearn: 0.4965836\ttotal: 617ms\tremaining: 4.17s\n",
      "129:\tlearn: 0.4963139\ttotal: 620ms\tremaining: 4.15s\n",
      "130:\tlearn: 0.4958393\ttotal: 622ms\tremaining: 4.13s\n",
      "131:\tlearn: 0.4955616\ttotal: 624ms\tremaining: 4.1s\n",
      "132:\tlearn: 0.4949936\ttotal: 626ms\tremaining: 4.08s\n",
      "133:\tlearn: 0.4944731\ttotal: 628ms\tremaining: 4.06s\n",
      "134:\tlearn: 0.4940908\ttotal: 630ms\tremaining: 4.04s\n",
      "135:\tlearn: 0.4937689\ttotal: 633ms\tremaining: 4.02s\n",
      "136:\tlearn: 0.4935082\ttotal: 636ms\tremaining: 4s\n",
      "137:\tlearn: 0.4931992\ttotal: 637ms\tremaining: 3.98s\n",
      "138:\tlearn: 0.4925463\ttotal: 638ms\tremaining: 3.95s\n",
      "139:\tlearn: 0.4919968\ttotal: 640ms\tremaining: 3.93s\n",
      "140:\tlearn: 0.4914228\ttotal: 641ms\tremaining: 3.9s\n",
      "141:\tlearn: 0.4911799\ttotal: 643ms\tremaining: 3.88s\n",
      "142:\tlearn: 0.4907745\ttotal: 644ms\tremaining: 3.86s\n",
      "143:\tlearn: 0.4901735\ttotal: 646ms\tremaining: 3.84s\n",
      "144:\tlearn: 0.4897621\ttotal: 648ms\tremaining: 3.82s\n",
      "145:\tlearn: 0.4895532\ttotal: 649ms\tremaining: 3.79s\n",
      "146:\tlearn: 0.4890964\ttotal: 651ms\tremaining: 3.78s\n",
      "147:\tlearn: 0.4886994\ttotal: 653ms\tremaining: 3.76s\n",
      "148:\tlearn: 0.4883629\ttotal: 654ms\tremaining: 3.73s\n",
      "149:\tlearn: 0.4879810\ttotal: 656ms\tremaining: 3.71s\n",
      "150:\tlearn: 0.4875113\ttotal: 657ms\tremaining: 3.69s\n",
      "151:\tlearn: 0.4871537\ttotal: 659ms\tremaining: 3.67s\n",
      "152:\tlearn: 0.4864706\ttotal: 660ms\tremaining: 3.65s\n",
      "153:\tlearn: 0.4858589\ttotal: 661ms\tremaining: 3.63s\n",
      "154:\tlearn: 0.4856225\ttotal: 663ms\tremaining: 3.61s\n",
      "155:\tlearn: 0.4851011\ttotal: 664ms\tremaining: 3.59s\n",
      "156:\tlearn: 0.4845634\ttotal: 666ms\tremaining: 3.58s\n",
      "157:\tlearn: 0.4840952\ttotal: 667ms\tremaining: 3.55s\n",
      "158:\tlearn: 0.4839189\ttotal: 668ms\tremaining: 3.54s\n",
      "159:\tlearn: 0.4835844\ttotal: 670ms\tremaining: 3.52s\n",
      "160:\tlearn: 0.4834418\ttotal: 671ms\tremaining: 3.5s\n",
      "161:\tlearn: 0.4831881\ttotal: 672ms\tremaining: 3.48s\n",
      "162:\tlearn: 0.4828712\ttotal: 674ms\tremaining: 3.46s\n",
      "163:\tlearn: 0.4825702\ttotal: 676ms\tremaining: 3.44s\n",
      "164:\tlearn: 0.4821750\ttotal: 677ms\tremaining: 3.43s\n",
      "165:\tlearn: 0.4817763\ttotal: 679ms\tremaining: 3.41s\n",
      "166:\tlearn: 0.4815795\ttotal: 680ms\tremaining: 3.39s\n",
      "167:\tlearn: 0.4809922\ttotal: 682ms\tremaining: 3.38s\n",
      "168:\tlearn: 0.4807248\ttotal: 683ms\tremaining: 3.36s\n",
      "169:\tlearn: 0.4804330\ttotal: 685ms\tremaining: 3.34s\n",
      "170:\tlearn: 0.4801577\ttotal: 686ms\tremaining: 3.32s\n",
      "171:\tlearn: 0.4798797\ttotal: 687ms\tremaining: 3.31s\n",
      "172:\tlearn: 0.4796619\ttotal: 688ms\tremaining: 3.29s\n",
      "173:\tlearn: 0.4793247\ttotal: 690ms\tremaining: 3.27s\n",
      "174:\tlearn: 0.4789301\ttotal: 691ms\tremaining: 3.26s\n",
      "175:\tlearn: 0.4786491\ttotal: 692ms\tremaining: 3.24s\n",
      "176:\tlearn: 0.4784031\ttotal: 694ms\tremaining: 3.23s\n",
      "177:\tlearn: 0.4781842\ttotal: 695ms\tremaining: 3.21s\n",
      "178:\tlearn: 0.4780533\ttotal: 697ms\tremaining: 3.2s\n",
      "179:\tlearn: 0.4778127\ttotal: 698ms\tremaining: 3.18s\n",
      "180:\tlearn: 0.4774808\ttotal: 700ms\tremaining: 3.17s\n",
      "181:\tlearn: 0.4771287\ttotal: 701ms\tremaining: 3.15s\n",
      "182:\tlearn: 0.4767310\ttotal: 703ms\tremaining: 3.14s\n",
      "183:\tlearn: 0.4765319\ttotal: 706ms\tremaining: 3.13s\n",
      "184:\tlearn: 0.4762564\ttotal: 708ms\tremaining: 3.12s\n",
      "185:\tlearn: 0.4761183\ttotal: 710ms\tremaining: 3.11s\n",
      "186:\tlearn: 0.4758464\ttotal: 712ms\tremaining: 3.1s\n",
      "187:\tlearn: 0.4754313\ttotal: 715ms\tremaining: 3.09s\n",
      "188:\tlearn: 0.4752727\ttotal: 717ms\tremaining: 3.08s\n",
      "189:\tlearn: 0.4749984\ttotal: 719ms\tremaining: 3.07s\n",
      "190:\tlearn: 0.4747524\ttotal: 721ms\tremaining: 3.05s\n",
      "191:\tlearn: 0.4745704\ttotal: 723ms\tremaining: 3.04s\n",
      "192:\tlearn: 0.4743094\ttotal: 725ms\tremaining: 3.03s\n",
      "193:\tlearn: 0.4738538\ttotal: 726ms\tremaining: 3.02s\n",
      "194:\tlearn: 0.4736193\ttotal: 728ms\tremaining: 3s\n",
      "195:\tlearn: 0.4732936\ttotal: 730ms\tremaining: 3s\n",
      "196:\tlearn: 0.4731448\ttotal: 733ms\tremaining: 2.99s\n",
      "197:\tlearn: 0.4729446\ttotal: 735ms\tremaining: 2.98s\n",
      "198:\tlearn: 0.4727522\ttotal: 737ms\tremaining: 2.97s\n",
      "199:\tlearn: 0.4725983\ttotal: 739ms\tremaining: 2.96s\n",
      "200:\tlearn: 0.4722050\ttotal: 741ms\tremaining: 2.94s\n",
      "201:\tlearn: 0.4719842\ttotal: 743ms\tremaining: 2.93s\n",
      "202:\tlearn: 0.4716969\ttotal: 745ms\tremaining: 2.92s\n",
      "203:\tlearn: 0.4714855\ttotal: 746ms\tremaining: 2.91s\n",
      "204:\tlearn: 0.4711658\ttotal: 748ms\tremaining: 2.9s\n",
      "205:\tlearn: 0.4708941\ttotal: 750ms\tremaining: 2.89s\n",
      "206:\tlearn: 0.4705773\ttotal: 752ms\tremaining: 2.88s\n",
      "207:\tlearn: 0.4704928\ttotal: 754ms\tremaining: 2.87s\n",
      "208:\tlearn: 0.4702687\ttotal: 756ms\tremaining: 2.86s\n",
      "209:\tlearn: 0.4700461\ttotal: 758ms\tremaining: 2.85s\n",
      "210:\tlearn: 0.4698729\ttotal: 760ms\tremaining: 2.84s\n",
      "211:\tlearn: 0.4695788\ttotal: 762ms\tremaining: 2.83s\n",
      "212:\tlearn: 0.4693567\ttotal: 765ms\tremaining: 2.83s\n",
      "213:\tlearn: 0.4691405\ttotal: 766ms\tremaining: 2.81s\n"
     ]
    },
    {
     "name": "stdout",
     "output_type": "stream",
     "text": [
      "214:\tlearn: 0.4688128\ttotal: 769ms\tremaining: 2.81s\n",
      "215:\tlearn: 0.4685400\ttotal: 771ms\tremaining: 2.8s\n",
      "216:\tlearn: 0.4683284\ttotal: 773ms\tremaining: 2.79s\n",
      "217:\tlearn: 0.4680178\ttotal: 775ms\tremaining: 2.78s\n",
      "218:\tlearn: 0.4677872\ttotal: 778ms\tremaining: 2.77s\n",
      "219:\tlearn: 0.4675650\ttotal: 780ms\tremaining: 2.76s\n",
      "220:\tlearn: 0.4673447\ttotal: 782ms\tremaining: 2.76s\n",
      "221:\tlearn: 0.4672081\ttotal: 784ms\tremaining: 2.75s\n",
      "222:\tlearn: 0.4671013\ttotal: 786ms\tremaining: 2.74s\n",
      "223:\tlearn: 0.4668758\ttotal: 788ms\tremaining: 2.73s\n",
      "224:\tlearn: 0.4668002\ttotal: 790ms\tremaining: 2.72s\n",
      "225:\tlearn: 0.4666103\ttotal: 792ms\tremaining: 2.71s\n",
      "226:\tlearn: 0.4662245\ttotal: 794ms\tremaining: 2.7s\n",
      "227:\tlearn: 0.4659552\ttotal: 796ms\tremaining: 2.69s\n",
      "228:\tlearn: 0.4656978\ttotal: 798ms\tremaining: 2.69s\n",
      "229:\tlearn: 0.4655063\ttotal: 800ms\tremaining: 2.68s\n",
      "230:\tlearn: 0.4653021\ttotal: 801ms\tremaining: 2.67s\n",
      "231:\tlearn: 0.4649561\ttotal: 803ms\tremaining: 2.66s\n",
      "232:\tlearn: 0.4648476\ttotal: 806ms\tremaining: 2.65s\n",
      "233:\tlearn: 0.4646217\ttotal: 807ms\tremaining: 2.64s\n",
      "234:\tlearn: 0.4644381\ttotal: 809ms\tremaining: 2.63s\n",
      "235:\tlearn: 0.4642578\ttotal: 811ms\tremaining: 2.63s\n",
      "236:\tlearn: 0.4641149\ttotal: 813ms\tremaining: 2.62s\n",
      "237:\tlearn: 0.4638637\ttotal: 816ms\tremaining: 2.61s\n",
      "238:\tlearn: 0.4635743\ttotal: 818ms\tremaining: 2.6s\n",
      "239:\tlearn: 0.4634277\ttotal: 820ms\tremaining: 2.6s\n",
      "240:\tlearn: 0.4633497\ttotal: 822ms\tremaining: 2.59s\n",
      "241:\tlearn: 0.4631409\ttotal: 823ms\tremaining: 2.58s\n",
      "242:\tlearn: 0.4628377\ttotal: 825ms\tremaining: 2.57s\n",
      "243:\tlearn: 0.4626470\ttotal: 827ms\tremaining: 2.56s\n",
      "244:\tlearn: 0.4623861\ttotal: 829ms\tremaining: 2.56s\n",
      "245:\tlearn: 0.4622334\ttotal: 831ms\tremaining: 2.55s\n",
      "246:\tlearn: 0.4620780\ttotal: 833ms\tremaining: 2.54s\n",
      "247:\tlearn: 0.4620052\ttotal: 835ms\tremaining: 2.53s\n",
      "248:\tlearn: 0.4618667\ttotal: 837ms\tremaining: 2.52s\n",
      "249:\tlearn: 0.4616025\ttotal: 839ms\tremaining: 2.52s\n",
      "250:\tlearn: 0.4614648\ttotal: 841ms\tremaining: 2.51s\n",
      "251:\tlearn: 0.4612999\ttotal: 843ms\tremaining: 2.5s\n",
      "252:\tlearn: 0.4611118\ttotal: 845ms\tremaining: 2.5s\n",
      "253:\tlearn: 0.4609265\ttotal: 847ms\tremaining: 2.49s\n",
      "254:\tlearn: 0.4607084\ttotal: 849ms\tremaining: 2.48s\n",
      "255:\tlearn: 0.4605511\ttotal: 851ms\tremaining: 2.47s\n",
      "256:\tlearn: 0.4603643\ttotal: 853ms\tremaining: 2.46s\n",
      "257:\tlearn: 0.4601466\ttotal: 854ms\tremaining: 2.46s\n",
      "258:\tlearn: 0.4599528\ttotal: 856ms\tremaining: 2.45s\n",
      "259:\tlearn: 0.4597906\ttotal: 858ms\tremaining: 2.44s\n",
      "260:\tlearn: 0.4596515\ttotal: 860ms\tremaining: 2.43s\n",
      "261:\tlearn: 0.4594553\ttotal: 861ms\tremaining: 2.43s\n",
      "262:\tlearn: 0.4593229\ttotal: 863ms\tremaining: 2.42s\n",
      "263:\tlearn: 0.4591410\ttotal: 865ms\tremaining: 2.41s\n",
      "264:\tlearn: 0.4590127\ttotal: 867ms\tremaining: 2.4s\n",
      "265:\tlearn: 0.4588747\ttotal: 869ms\tremaining: 2.4s\n",
      "266:\tlearn: 0.4586634\ttotal: 870ms\tremaining: 2.39s\n",
      "267:\tlearn: 0.4584891\ttotal: 872ms\tremaining: 2.38s\n",
      "268:\tlearn: 0.4583130\ttotal: 874ms\tremaining: 2.37s\n",
      "269:\tlearn: 0.4580783\ttotal: 876ms\tremaining: 2.37s\n",
      "270:\tlearn: 0.4579314\ttotal: 877ms\tremaining: 2.36s\n",
      "271:\tlearn: 0.4576943\ttotal: 879ms\tremaining: 2.35s\n",
      "272:\tlearn: 0.4574693\ttotal: 881ms\tremaining: 2.35s\n",
      "273:\tlearn: 0.4572933\ttotal: 883ms\tremaining: 2.34s\n",
      "274:\tlearn: 0.4572270\ttotal: 885ms\tremaining: 2.33s\n",
      "275:\tlearn: 0.4570405\ttotal: 886ms\tremaining: 2.33s\n",
      "276:\tlearn: 0.4568394\ttotal: 888ms\tremaining: 2.32s\n",
      "277:\tlearn: 0.4566672\ttotal: 890ms\tremaining: 2.31s\n",
      "278:\tlearn: 0.4565676\ttotal: 892ms\tremaining: 2.31s\n",
      "279:\tlearn: 0.4564414\ttotal: 894ms\tremaining: 2.3s\n",
      "280:\tlearn: 0.4563106\ttotal: 896ms\tremaining: 2.29s\n",
      "281:\tlearn: 0.4560840\ttotal: 898ms\tremaining: 2.29s\n",
      "282:\tlearn: 0.4559329\ttotal: 900ms\tremaining: 2.28s\n",
      "283:\tlearn: 0.4558077\ttotal: 902ms\tremaining: 2.27s\n",
      "284:\tlearn: 0.4557354\ttotal: 904ms\tremaining: 2.27s\n",
      "285:\tlearn: 0.4555788\ttotal: 906ms\tremaining: 2.26s\n",
      "286:\tlearn: 0.4554013\ttotal: 908ms\tremaining: 2.25s\n",
      "287:\tlearn: 0.4552234\ttotal: 910ms\tremaining: 2.25s\n",
      "288:\tlearn: 0.4550231\ttotal: 913ms\tremaining: 2.24s\n",
      "289:\tlearn: 0.4548982\ttotal: 915ms\tremaining: 2.24s\n",
      "290:\tlearn: 0.4547987\ttotal: 917ms\tremaining: 2.23s\n",
      "291:\tlearn: 0.4546231\ttotal: 920ms\tremaining: 2.23s\n",
      "292:\tlearn: 0.4543401\ttotal: 922ms\tremaining: 2.23s\n",
      "293:\tlearn: 0.4541504\ttotal: 925ms\tremaining: 2.22s\n",
      "294:\tlearn: 0.4538759\ttotal: 927ms\tremaining: 2.21s\n",
      "295:\tlearn: 0.4536922\ttotal: 929ms\tremaining: 2.21s\n",
      "296:\tlearn: 0.4535467\ttotal: 932ms\tremaining: 2.21s\n",
      "297:\tlearn: 0.4534193\ttotal: 935ms\tremaining: 2.2s\n",
      "298:\tlearn: 0.4532774\ttotal: 938ms\tremaining: 2.2s\n",
      "299:\tlearn: 0.4531983\ttotal: 941ms\tremaining: 2.19s\n",
      "300:\tlearn: 0.4530269\ttotal: 943ms\tremaining: 2.19s\n",
      "301:\tlearn: 0.4529021\ttotal: 946ms\tremaining: 2.19s\n",
      "302:\tlearn: 0.4526130\ttotal: 948ms\tremaining: 2.18s\n",
      "303:\tlearn: 0.4524619\ttotal: 950ms\tremaining: 2.17s\n",
      "304:\tlearn: 0.4523191\ttotal: 953ms\tremaining: 2.17s\n",
      "305:\tlearn: 0.4521562\ttotal: 956ms\tremaining: 2.17s\n",
      "306:\tlearn: 0.4520025\ttotal: 958ms\tremaining: 2.16s\n",
      "307:\tlearn: 0.4518441\ttotal: 960ms\tremaining: 2.16s\n",
      "308:\tlearn: 0.4517687\ttotal: 963ms\tremaining: 2.15s\n",
      "309:\tlearn: 0.4517188\ttotal: 966ms\tremaining: 2.15s\n",
      "310:\tlearn: 0.4515525\ttotal: 970ms\tremaining: 2.15s\n",
      "311:\tlearn: 0.4514525\ttotal: 973ms\tremaining: 2.15s\n",
      "312:\tlearn: 0.4513030\ttotal: 976ms\tremaining: 2.14s\n",
      "313:\tlearn: 0.4512110\ttotal: 979ms\tremaining: 2.14s\n",
      "314:\tlearn: 0.4510593\ttotal: 981ms\tremaining: 2.13s\n",
      "315:\tlearn: 0.4509056\ttotal: 985ms\tremaining: 2.13s\n",
      "316:\tlearn: 0.4507621\ttotal: 987ms\tremaining: 2.13s\n",
      "317:\tlearn: 0.4505991\ttotal: 989ms\tremaining: 2.12s\n",
      "318:\tlearn: 0.4504187\ttotal: 992ms\tremaining: 2.12s\n",
      "319:\tlearn: 0.4503312\ttotal: 994ms\tremaining: 2.11s\n",
      "320:\tlearn: 0.4502359\ttotal: 997ms\tremaining: 2.11s\n",
      "321:\tlearn: 0.4500535\ttotal: 999ms\tremaining: 2.1s\n",
      "322:\tlearn: 0.4498121\ttotal: 1s\tremaining: 2.1s\n",
      "323:\tlearn: 0.4496603\ttotal: 1s\tremaining: 2.09s\n",
      "324:\tlearn: 0.4494566\ttotal: 1s\tremaining: 2.09s\n",
      "325:\tlearn: 0.4492635\ttotal: 1.01s\tremaining: 2.08s\n",
      "326:\tlearn: 0.4491599\ttotal: 1.01s\tremaining: 2.08s\n",
      "327:\tlearn: 0.4489927\ttotal: 1.01s\tremaining: 2.07s\n",
      "328:\tlearn: 0.4488758\ttotal: 1.01s\tremaining: 2.07s\n",
      "329:\tlearn: 0.4486905\ttotal: 1.02s\tremaining: 2.06s\n",
      "330:\tlearn: 0.4486176\ttotal: 1.02s\tremaining: 2.06s\n",
      "331:\tlearn: 0.4484738\ttotal: 1.02s\tremaining: 2.06s\n",
      "332:\tlearn: 0.4483089\ttotal: 1.02s\tremaining: 2.05s\n",
      "333:\tlearn: 0.4480552\ttotal: 1.03s\tremaining: 2.05s\n",
      "334:\tlearn: 0.4479461\ttotal: 1.03s\tremaining: 2.04s\n",
      "335:\tlearn: 0.4477010\ttotal: 1.03s\tremaining: 2.04s\n",
      "336:\tlearn: 0.4475374\ttotal: 1.03s\tremaining: 2.03s\n",
      "337:\tlearn: 0.4474241\ttotal: 1.03s\tremaining: 2.03s\n",
      "338:\tlearn: 0.4473016\ttotal: 1.04s\tremaining: 2.02s\n",
      "339:\tlearn: 0.4472119\ttotal: 1.04s\tremaining: 2.02s\n",
      "340:\tlearn: 0.4470497\ttotal: 1.04s\tremaining: 2.01s\n",
      "341:\tlearn: 0.4469678\ttotal: 1.04s\tremaining: 2.01s\n",
      "342:\tlearn: 0.4468390\ttotal: 1.04s\tremaining: 2s\n",
      "343:\tlearn: 0.4466610\ttotal: 1.05s\tremaining: 2s\n",
      "344:\tlearn: 0.4466064\ttotal: 1.05s\tremaining: 1.99s\n",
      "345:\tlearn: 0.4464397\ttotal: 1.05s\tremaining: 1.99s\n",
      "346:\tlearn: 0.4463672\ttotal: 1.05s\tremaining: 1.98s\n",
      "347:\tlearn: 0.4462916\ttotal: 1.06s\tremaining: 1.98s\n",
      "348:\tlearn: 0.4462051\ttotal: 1.06s\tremaining: 1.97s\n",
      "349:\tlearn: 0.4460690\ttotal: 1.06s\tremaining: 1.97s\n",
      "350:\tlearn: 0.4459270\ttotal: 1.06s\tremaining: 1.96s\n",
      "351:\tlearn: 0.4458490\ttotal: 1.06s\tremaining: 1.96s\n",
      "352:\tlearn: 0.4457014\ttotal: 1.06s\tremaining: 1.95s\n",
      "353:\tlearn: 0.4456106\ttotal: 1.07s\tremaining: 1.95s\n",
      "354:\tlearn: 0.4454184\ttotal: 1.07s\tremaining: 1.95s\n",
      "355:\tlearn: 0.4452838\ttotal: 1.07s\tremaining: 1.94s\n",
      "356:\tlearn: 0.4451831\ttotal: 1.07s\tremaining: 1.94s\n",
      "357:\tlearn: 0.4450818\ttotal: 1.08s\tremaining: 1.93s\n",
      "358:\tlearn: 0.4450106\ttotal: 1.08s\tremaining: 1.93s\n",
      "359:\tlearn: 0.4448988\ttotal: 1.08s\tremaining: 1.92s\n",
      "360:\tlearn: 0.4447311\ttotal: 1.08s\tremaining: 1.92s\n",
      "361:\tlearn: 0.4445934\ttotal: 1.09s\tremaining: 1.92s\n",
      "362:\tlearn: 0.4444904\ttotal: 1.09s\tremaining: 1.91s\n",
      "363:\tlearn: 0.4443951\ttotal: 1.09s\tremaining: 1.9s\n",
      "364:\tlearn: 0.4442759\ttotal: 1.09s\tremaining: 1.9s\n",
      "365:\tlearn: 0.4441084\ttotal: 1.09s\tremaining: 1.9s\n",
      "366:\tlearn: 0.4440150\ttotal: 1.1s\tremaining: 1.89s\n",
      "367:\tlearn: 0.4438967\ttotal: 1.1s\tremaining: 1.89s\n",
      "368:\tlearn: 0.4438463\ttotal: 1.1s\tremaining: 1.88s\n",
      "369:\tlearn: 0.4437178\ttotal: 1.1s\tremaining: 1.88s\n",
      "370:\tlearn: 0.4435692\ttotal: 1.1s\tremaining: 1.87s\n",
      "371:\tlearn: 0.4433467\ttotal: 1.1s\tremaining: 1.86s\n",
      "372:\tlearn: 0.4430858\ttotal: 1.11s\tremaining: 1.86s\n",
      "373:\tlearn: 0.4428999\ttotal: 1.11s\tremaining: 1.85s\n",
      "374:\tlearn: 0.4427759\ttotal: 1.11s\tremaining: 1.85s\n",
      "375:\tlearn: 0.4426949\ttotal: 1.11s\tremaining: 1.85s\n",
      "376:\tlearn: 0.4425446\ttotal: 1.11s\tremaining: 1.84s\n",
      "377:\tlearn: 0.4424553\ttotal: 1.12s\tremaining: 1.84s\n",
      "378:\tlearn: 0.4423779\ttotal: 1.12s\tremaining: 1.83s\n",
      "379:\tlearn: 0.4422344\ttotal: 1.12s\tremaining: 1.83s\n",
      "380:\tlearn: 0.4421253\ttotal: 1.12s\tremaining: 1.82s\n",
      "381:\tlearn: 0.4420709\ttotal: 1.12s\tremaining: 1.82s\n",
      "382:\tlearn: 0.4418899\ttotal: 1.13s\tremaining: 1.81s\n",
      "383:\tlearn: 0.4417324\ttotal: 1.13s\tremaining: 1.81s\n",
      "384:\tlearn: 0.4415977\ttotal: 1.13s\tremaining: 1.8s\n",
      "385:\tlearn: 0.4415203\ttotal: 1.13s\tremaining: 1.8s\n",
      "386:\tlearn: 0.4414207\ttotal: 1.13s\tremaining: 1.8s\n",
      "387:\tlearn: 0.4412833\ttotal: 1.14s\tremaining: 1.79s\n",
      "388:\tlearn: 0.4411387\ttotal: 1.14s\tremaining: 1.79s\n",
      "389:\tlearn: 0.4410638\ttotal: 1.14s\tremaining: 1.78s\n",
      "390:\tlearn: 0.4409536\ttotal: 1.14s\tremaining: 1.78s\n",
      "391:\tlearn: 0.4408789\ttotal: 1.14s\tremaining: 1.77s\n",
      "392:\tlearn: 0.4407510\ttotal: 1.15s\tremaining: 1.77s\n",
      "393:\tlearn: 0.4405217\ttotal: 1.15s\tremaining: 1.76s\n",
      "394:\tlearn: 0.4403677\ttotal: 1.15s\tremaining: 1.76s\n",
      "395:\tlearn: 0.4401842\ttotal: 1.15s\tremaining: 1.75s\n",
      "396:\tlearn: 0.4400878\ttotal: 1.15s\tremaining: 1.75s\n",
      "397:\tlearn: 0.4399116\ttotal: 1.15s\tremaining: 1.75s\n",
      "398:\tlearn: 0.4398026\ttotal: 1.16s\tremaining: 1.74s\n",
      "399:\tlearn: 0.4396624\ttotal: 1.16s\tremaining: 1.74s\n",
      "400:\tlearn: 0.4395331\ttotal: 1.16s\tremaining: 1.73s\n",
      "401:\tlearn: 0.4393954\ttotal: 1.16s\tremaining: 1.73s\n",
      "402:\tlearn: 0.4393060\ttotal: 1.16s\tremaining: 1.72s\n",
      "403:\tlearn: 0.4392618\ttotal: 1.17s\tremaining: 1.72s\n",
      "404:\tlearn: 0.4391792\ttotal: 1.17s\tremaining: 1.71s\n",
      "405:\tlearn: 0.4390967\ttotal: 1.17s\tremaining: 1.71s\n",
      "406:\tlearn: 0.4390011\ttotal: 1.17s\tremaining: 1.71s\n",
      "407:\tlearn: 0.4388758\ttotal: 1.17s\tremaining: 1.7s\n",
      "408:\tlearn: 0.4387427\ttotal: 1.18s\tremaining: 1.7s\n",
      "409:\tlearn: 0.4386996\ttotal: 1.18s\tremaining: 1.69s\n",
      "410:\tlearn: 0.4386107\ttotal: 1.18s\tremaining: 1.69s\n",
      "411:\tlearn: 0.4384606\ttotal: 1.18s\tremaining: 1.69s\n",
      "412:\tlearn: 0.4384151\ttotal: 1.18s\tremaining: 1.68s\n",
      "413:\tlearn: 0.4383044\ttotal: 1.19s\tremaining: 1.68s\n",
      "414:\tlearn: 0.4381891\ttotal: 1.19s\tremaining: 1.67s\n",
      "415:\tlearn: 0.4381688\ttotal: 1.19s\tremaining: 1.67s\n",
      "416:\tlearn: 0.4381320\ttotal: 1.19s\tremaining: 1.67s\n",
      "417:\tlearn: 0.4380332\ttotal: 1.19s\tremaining: 1.66s\n",
      "418:\tlearn: 0.4379354\ttotal: 1.2s\tremaining: 1.66s\n",
      "419:\tlearn: 0.4378651\ttotal: 1.2s\tremaining: 1.65s\n",
      "420:\tlearn: 0.4377821\ttotal: 1.2s\tremaining: 1.65s\n",
      "421:\tlearn: 0.4376747\ttotal: 1.2s\tremaining: 1.64s\n",
      "422:\tlearn: 0.4375398\ttotal: 1.2s\tremaining: 1.64s\n",
      "423:\tlearn: 0.4373794\ttotal: 1.2s\tremaining: 1.64s\n",
      "424:\tlearn: 0.4371690\ttotal: 1.21s\tremaining: 1.63s\n",
      "425:\tlearn: 0.4370225\ttotal: 1.21s\tremaining: 1.63s\n",
      "426:\tlearn: 0.4369466\ttotal: 1.21s\tremaining: 1.62s\n",
      "427:\tlearn: 0.4368074\ttotal: 1.21s\tremaining: 1.62s\n",
      "428:\tlearn: 0.4366989\ttotal: 1.21s\tremaining: 1.61s\n",
      "429:\tlearn: 0.4366230\ttotal: 1.22s\tremaining: 1.61s\n",
      "430:\tlearn: 0.4364466\ttotal: 1.22s\tremaining: 1.61s\n"
     ]
    },
    {
     "name": "stdout",
     "output_type": "stream",
     "text": [
      "431:\tlearn: 0.4363560\ttotal: 1.22s\tremaining: 1.6s\n",
      "432:\tlearn: 0.4362145\ttotal: 1.22s\tremaining: 1.6s\n",
      "433:\tlearn: 0.4360019\ttotal: 1.22s\tremaining: 1.6s\n",
      "434:\tlearn: 0.4358937\ttotal: 1.23s\tremaining: 1.59s\n",
      "435:\tlearn: 0.4357952\ttotal: 1.23s\tremaining: 1.59s\n",
      "436:\tlearn: 0.4357072\ttotal: 1.23s\tremaining: 1.59s\n",
      "437:\tlearn: 0.4356221\ttotal: 1.23s\tremaining: 1.58s\n",
      "438:\tlearn: 0.4355581\ttotal: 1.24s\tremaining: 1.58s\n",
      "439:\tlearn: 0.4354681\ttotal: 1.24s\tremaining: 1.58s\n",
      "440:\tlearn: 0.4353698\ttotal: 1.24s\tremaining: 1.57s\n",
      "441:\tlearn: 0.4352800\ttotal: 1.24s\tremaining: 1.57s\n",
      "442:\tlearn: 0.4352054\ttotal: 1.25s\tremaining: 1.57s\n",
      "443:\tlearn: 0.4351378\ttotal: 1.25s\tremaining: 1.56s\n",
      "444:\tlearn: 0.4350156\ttotal: 1.25s\tremaining: 1.56s\n",
      "445:\tlearn: 0.4349396\ttotal: 1.25s\tremaining: 1.56s\n",
      "446:\tlearn: 0.4348485\ttotal: 1.26s\tremaining: 1.55s\n",
      "447:\tlearn: 0.4347325\ttotal: 1.26s\tremaining: 1.55s\n",
      "448:\tlearn: 0.4346556\ttotal: 1.26s\tremaining: 1.55s\n",
      "449:\tlearn: 0.4345312\ttotal: 1.26s\tremaining: 1.55s\n",
      "450:\tlearn: 0.4343104\ttotal: 1.27s\tremaining: 1.54s\n",
      "451:\tlearn: 0.4342302\ttotal: 1.27s\tremaining: 1.54s\n",
      "452:\tlearn: 0.4340487\ttotal: 1.27s\tremaining: 1.54s\n",
      "453:\tlearn: 0.4339227\ttotal: 1.27s\tremaining: 1.53s\n",
      "454:\tlearn: 0.4338371\ttotal: 1.28s\tremaining: 1.53s\n",
      "455:\tlearn: 0.4335648\ttotal: 1.28s\tremaining: 1.53s\n",
      "456:\tlearn: 0.4334657\ttotal: 1.28s\tremaining: 1.52s\n",
      "457:\tlearn: 0.4333650\ttotal: 1.28s\tremaining: 1.52s\n",
      "458:\tlearn: 0.4332561\ttotal: 1.29s\tremaining: 1.52s\n",
      "459:\tlearn: 0.4331370\ttotal: 1.29s\tremaining: 1.51s\n",
      "460:\tlearn: 0.4330948\ttotal: 1.29s\tremaining: 1.51s\n",
      "461:\tlearn: 0.4329910\ttotal: 1.29s\tremaining: 1.5s\n",
      "462:\tlearn: 0.4329557\ttotal: 1.29s\tremaining: 1.5s\n",
      "463:\tlearn: 0.4328966\ttotal: 1.3s\tremaining: 1.5s\n",
      "464:\tlearn: 0.4328589\ttotal: 1.3s\tremaining: 1.49s\n",
      "465:\tlearn: 0.4327680\ttotal: 1.3s\tremaining: 1.49s\n",
      "466:\tlearn: 0.4326569\ttotal: 1.3s\tremaining: 1.49s\n",
      "467:\tlearn: 0.4326143\ttotal: 1.31s\tremaining: 1.48s\n",
      "468:\tlearn: 0.4325655\ttotal: 1.31s\tremaining: 1.48s\n",
      "469:\tlearn: 0.4324729\ttotal: 1.31s\tremaining: 1.48s\n",
      "470:\tlearn: 0.4324258\ttotal: 1.31s\tremaining: 1.47s\n",
      "471:\tlearn: 0.4323362\ttotal: 1.31s\tremaining: 1.47s\n",
      "472:\tlearn: 0.4321697\ttotal: 1.32s\tremaining: 1.47s\n",
      "473:\tlearn: 0.4321269\ttotal: 1.32s\tremaining: 1.46s\n",
      "474:\tlearn: 0.4320093\ttotal: 1.32s\tremaining: 1.46s\n",
      "475:\tlearn: 0.4319425\ttotal: 1.32s\tremaining: 1.46s\n",
      "476:\tlearn: 0.4318206\ttotal: 1.32s\tremaining: 1.45s\n",
      "477:\tlearn: 0.4317542\ttotal: 1.32s\tremaining: 1.45s\n",
      "478:\tlearn: 0.4316891\ttotal: 1.33s\tremaining: 1.44s\n",
      "479:\tlearn: 0.4315339\ttotal: 1.33s\tremaining: 1.44s\n",
      "480:\tlearn: 0.4314815\ttotal: 1.33s\tremaining: 1.43s\n",
      "481:\tlearn: 0.4313646\ttotal: 1.33s\tremaining: 1.43s\n",
      "482:\tlearn: 0.4312657\ttotal: 1.34s\tremaining: 1.43s\n",
      "483:\tlearn: 0.4311209\ttotal: 1.34s\tremaining: 1.43s\n",
      "484:\tlearn: 0.4310605\ttotal: 1.34s\tremaining: 1.42s\n",
      "485:\tlearn: 0.4310150\ttotal: 1.34s\tremaining: 1.42s\n",
      "486:\tlearn: 0.4309801\ttotal: 1.34s\tremaining: 1.42s\n",
      "487:\tlearn: 0.4309014\ttotal: 1.35s\tremaining: 1.41s\n",
      "488:\tlearn: 0.4308107\ttotal: 1.35s\tremaining: 1.41s\n",
      "489:\tlearn: 0.4306531\ttotal: 1.35s\tremaining: 1.4s\n",
      "490:\tlearn: 0.4305389\ttotal: 1.35s\tremaining: 1.4s\n",
      "491:\tlearn: 0.4304425\ttotal: 1.35s\tremaining: 1.4s\n",
      "492:\tlearn: 0.4303689\ttotal: 1.35s\tremaining: 1.39s\n",
      "493:\tlearn: 0.4302374\ttotal: 1.35s\tremaining: 1.39s\n",
      "494:\tlearn: 0.4301992\ttotal: 1.36s\tremaining: 1.39s\n",
      "495:\tlearn: 0.4301387\ttotal: 1.36s\tremaining: 1.38s\n",
      "496:\tlearn: 0.4300380\ttotal: 1.36s\tremaining: 1.38s\n",
      "497:\tlearn: 0.4299601\ttotal: 1.36s\tremaining: 1.38s\n",
      "498:\tlearn: 0.4298505\ttotal: 1.37s\tremaining: 1.37s\n",
      "499:\tlearn: 0.4297377\ttotal: 1.37s\tremaining: 1.37s\n",
      "500:\tlearn: 0.4295580\ttotal: 1.37s\tremaining: 1.36s\n",
      "501:\tlearn: 0.4293824\ttotal: 1.37s\tremaining: 1.36s\n",
      "502:\tlearn: 0.4292590\ttotal: 1.37s\tremaining: 1.36s\n",
      "503:\tlearn: 0.4291482\ttotal: 1.38s\tremaining: 1.35s\n",
      "504:\tlearn: 0.4290190\ttotal: 1.38s\tremaining: 1.35s\n",
      "505:\tlearn: 0.4288559\ttotal: 1.38s\tremaining: 1.35s\n",
      "506:\tlearn: 0.4286590\ttotal: 1.39s\tremaining: 1.35s\n",
      "507:\tlearn: 0.4285979\ttotal: 1.39s\tremaining: 1.34s\n",
      "508:\tlearn: 0.4285168\ttotal: 1.39s\tremaining: 1.34s\n",
      "509:\tlearn: 0.4284891\ttotal: 1.39s\tremaining: 1.34s\n",
      "510:\tlearn: 0.4284134\ttotal: 1.39s\tremaining: 1.33s\n",
      "511:\tlearn: 0.4282889\ttotal: 1.39s\tremaining: 1.33s\n",
      "512:\tlearn: 0.4281715\ttotal: 1.4s\tremaining: 1.33s\n",
      "513:\tlearn: 0.4281125\ttotal: 1.4s\tremaining: 1.32s\n",
      "514:\tlearn: 0.4280230\ttotal: 1.4s\tremaining: 1.32s\n",
      "515:\tlearn: 0.4279083\ttotal: 1.4s\tremaining: 1.32s\n",
      "516:\tlearn: 0.4278090\ttotal: 1.41s\tremaining: 1.31s\n",
      "517:\tlearn: 0.4276579\ttotal: 1.41s\tremaining: 1.31s\n",
      "518:\tlearn: 0.4276048\ttotal: 1.41s\tremaining: 1.31s\n",
      "519:\tlearn: 0.4275320\ttotal: 1.41s\tremaining: 1.3s\n",
      "520:\tlearn: 0.4274730\ttotal: 1.41s\tremaining: 1.3s\n",
      "521:\tlearn: 0.4274029\ttotal: 1.42s\tremaining: 1.3s\n",
      "522:\tlearn: 0.4273466\ttotal: 1.42s\tremaining: 1.29s\n",
      "523:\tlearn: 0.4272382\ttotal: 1.42s\tremaining: 1.29s\n",
      "524:\tlearn: 0.4271764\ttotal: 1.42s\tremaining: 1.29s\n",
      "525:\tlearn: 0.4270894\ttotal: 1.43s\tremaining: 1.28s\n",
      "526:\tlearn: 0.4269486\ttotal: 1.43s\tremaining: 1.28s\n",
      "527:\tlearn: 0.4267443\ttotal: 1.43s\tremaining: 1.28s\n",
      "528:\tlearn: 0.4266399\ttotal: 1.43s\tremaining: 1.27s\n",
      "529:\tlearn: 0.4265402\ttotal: 1.43s\tremaining: 1.27s\n",
      "530:\tlearn: 0.4264455\ttotal: 1.44s\tremaining: 1.27s\n",
      "531:\tlearn: 0.4263803\ttotal: 1.44s\tremaining: 1.26s\n",
      "532:\tlearn: 0.4263080\ttotal: 1.44s\tremaining: 1.26s\n",
      "533:\tlearn: 0.4261862\ttotal: 1.44s\tremaining: 1.26s\n",
      "534:\tlearn: 0.4261125\ttotal: 1.45s\tremaining: 1.26s\n",
      "535:\tlearn: 0.4260686\ttotal: 1.45s\tremaining: 1.25s\n",
      "536:\tlearn: 0.4258895\ttotal: 1.45s\tremaining: 1.25s\n",
      "537:\tlearn: 0.4257456\ttotal: 1.45s\tremaining: 1.25s\n",
      "538:\tlearn: 0.4256657\ttotal: 1.45s\tremaining: 1.24s\n",
      "539:\tlearn: 0.4256094\ttotal: 1.46s\tremaining: 1.24s\n",
      "540:\tlearn: 0.4255585\ttotal: 1.46s\tremaining: 1.24s\n",
      "541:\tlearn: 0.4255159\ttotal: 1.46s\tremaining: 1.23s\n",
      "542:\tlearn: 0.4254808\ttotal: 1.46s\tremaining: 1.23s\n",
      "543:\tlearn: 0.4253348\ttotal: 1.47s\tremaining: 1.23s\n",
      "544:\tlearn: 0.4251892\ttotal: 1.47s\tremaining: 1.22s\n",
      "545:\tlearn: 0.4251346\ttotal: 1.47s\tremaining: 1.22s\n",
      "546:\tlearn: 0.4249996\ttotal: 1.47s\tremaining: 1.22s\n",
      "547:\tlearn: 0.4248634\ttotal: 1.47s\tremaining: 1.22s\n",
      "548:\tlearn: 0.4247257\ttotal: 1.48s\tremaining: 1.21s\n",
      "549:\tlearn: 0.4246327\ttotal: 1.48s\tremaining: 1.21s\n",
      "550:\tlearn: 0.4245406\ttotal: 1.48s\tremaining: 1.21s\n",
      "551:\tlearn: 0.4244291\ttotal: 1.48s\tremaining: 1.2s\n",
      "552:\tlearn: 0.4242644\ttotal: 1.48s\tremaining: 1.2s\n",
      "553:\tlearn: 0.4240955\ttotal: 1.49s\tremaining: 1.2s\n",
      "554:\tlearn: 0.4239583\ttotal: 1.49s\tremaining: 1.19s\n",
      "555:\tlearn: 0.4239123\ttotal: 1.49s\tremaining: 1.19s\n",
      "556:\tlearn: 0.4238354\ttotal: 1.49s\tremaining: 1.19s\n",
      "557:\tlearn: 0.4237189\ttotal: 1.49s\tremaining: 1.18s\n",
      "558:\tlearn: 0.4235466\ttotal: 1.5s\tremaining: 1.18s\n",
      "559:\tlearn: 0.4234492\ttotal: 1.5s\tremaining: 1.18s\n",
      "560:\tlearn: 0.4233857\ttotal: 1.5s\tremaining: 1.18s\n",
      "561:\tlearn: 0.4233506\ttotal: 1.5s\tremaining: 1.17s\n",
      "562:\tlearn: 0.4232248\ttotal: 1.51s\tremaining: 1.17s\n",
      "563:\tlearn: 0.4231019\ttotal: 1.51s\tremaining: 1.17s\n",
      "564:\tlearn: 0.4229528\ttotal: 1.51s\tremaining: 1.16s\n",
      "565:\tlearn: 0.4228524\ttotal: 1.51s\tremaining: 1.16s\n",
      "566:\tlearn: 0.4227039\ttotal: 1.51s\tremaining: 1.16s\n",
      "567:\tlearn: 0.4225436\ttotal: 1.52s\tremaining: 1.15s\n",
      "568:\tlearn: 0.4224211\ttotal: 1.52s\tremaining: 1.15s\n",
      "569:\tlearn: 0.4223410\ttotal: 1.52s\tremaining: 1.15s\n",
      "570:\tlearn: 0.4221562\ttotal: 1.52s\tremaining: 1.14s\n",
      "571:\tlearn: 0.4220984\ttotal: 1.52s\tremaining: 1.14s\n",
      "572:\tlearn: 0.4220250\ttotal: 1.53s\tremaining: 1.14s\n",
      "573:\tlearn: 0.4218736\ttotal: 1.53s\tremaining: 1.14s\n",
      "574:\tlearn: 0.4217810\ttotal: 1.53s\tremaining: 1.13s\n",
      "575:\tlearn: 0.4216607\ttotal: 1.53s\tremaining: 1.13s\n",
      "576:\tlearn: 0.4216219\ttotal: 1.54s\tremaining: 1.13s\n",
      "577:\tlearn: 0.4215803\ttotal: 1.54s\tremaining: 1.12s\n",
      "578:\tlearn: 0.4214088\ttotal: 1.54s\tremaining: 1.12s\n",
      "579:\tlearn: 0.4213023\ttotal: 1.54s\tremaining: 1.12s\n",
      "580:\tlearn: 0.4212132\ttotal: 1.54s\tremaining: 1.11s\n",
      "581:\tlearn: 0.4210524\ttotal: 1.55s\tremaining: 1.11s\n",
      "582:\tlearn: 0.4209041\ttotal: 1.55s\tremaining: 1.11s\n",
      "583:\tlearn: 0.4208758\ttotal: 1.55s\tremaining: 1.1s\n",
      "584:\tlearn: 0.4208270\ttotal: 1.55s\tremaining: 1.1s\n",
      "585:\tlearn: 0.4207132\ttotal: 1.56s\tremaining: 1.1s\n",
      "586:\tlearn: 0.4206418\ttotal: 1.56s\tremaining: 1.1s\n",
      "587:\tlearn: 0.4205680\ttotal: 1.56s\tremaining: 1.09s\n",
      "588:\tlearn: 0.4205324\ttotal: 1.56s\tremaining: 1.09s\n",
      "589:\tlearn: 0.4204569\ttotal: 1.56s\tremaining: 1.09s\n",
      "590:\tlearn: 0.4203261\ttotal: 1.57s\tremaining: 1.08s\n",
      "591:\tlearn: 0.4202185\ttotal: 1.57s\tremaining: 1.08s\n",
      "592:\tlearn: 0.4201299\ttotal: 1.57s\tremaining: 1.08s\n",
      "593:\tlearn: 0.4200741\ttotal: 1.57s\tremaining: 1.07s\n",
      "594:\tlearn: 0.4199851\ttotal: 1.57s\tremaining: 1.07s\n",
      "595:\tlearn: 0.4197905\ttotal: 1.58s\tremaining: 1.07s\n",
      "596:\tlearn: 0.4196506\ttotal: 1.58s\tremaining: 1.07s\n",
      "597:\tlearn: 0.4195064\ttotal: 1.58s\tremaining: 1.06s\n",
      "598:\tlearn: 0.4194585\ttotal: 1.58s\tremaining: 1.06s\n",
      "599:\tlearn: 0.4193968\ttotal: 1.59s\tremaining: 1.06s\n",
      "600:\tlearn: 0.4193342\ttotal: 1.59s\tremaining: 1.05s\n",
      "601:\tlearn: 0.4191993\ttotal: 1.59s\tremaining: 1.05s\n",
      "602:\tlearn: 0.4190994\ttotal: 1.59s\tremaining: 1.05s\n",
      "603:\tlearn: 0.4190068\ttotal: 1.59s\tremaining: 1.05s\n",
      "604:\tlearn: 0.4189303\ttotal: 1.6s\tremaining: 1.04s\n",
      "605:\tlearn: 0.4188899\ttotal: 1.6s\tremaining: 1.04s\n",
      "606:\tlearn: 0.4188109\ttotal: 1.6s\tremaining: 1.04s\n",
      "607:\tlearn: 0.4187449\ttotal: 1.6s\tremaining: 1.03s\n",
      "608:\tlearn: 0.4186216\ttotal: 1.61s\tremaining: 1.03s\n",
      "609:\tlearn: 0.4185426\ttotal: 1.61s\tremaining: 1.03s\n",
      "610:\tlearn: 0.4183940\ttotal: 1.61s\tremaining: 1.02s\n",
      "611:\tlearn: 0.4183090\ttotal: 1.61s\tremaining: 1.02s\n",
      "612:\tlearn: 0.4182539\ttotal: 1.61s\tremaining: 1.02s\n",
      "613:\tlearn: 0.4181874\ttotal: 1.62s\tremaining: 1.02s\n",
      "614:\tlearn: 0.4180575\ttotal: 1.62s\tremaining: 1.01s\n",
      "615:\tlearn: 0.4178151\ttotal: 1.62s\tremaining: 1.01s\n",
      "616:\tlearn: 0.4176957\ttotal: 1.63s\tremaining: 1.01s\n",
      "617:\tlearn: 0.4176270\ttotal: 1.63s\tremaining: 1.01s\n",
      "618:\tlearn: 0.4174886\ttotal: 1.63s\tremaining: 1s\n",
      "619:\tlearn: 0.4174620\ttotal: 1.63s\tremaining: 1s\n",
      "620:\tlearn: 0.4174005\ttotal: 1.63s\tremaining: 997ms\n",
      "621:\tlearn: 0.4173442\ttotal: 1.64s\tremaining: 994ms\n",
      "622:\tlearn: 0.4172721\ttotal: 1.64s\tremaining: 991ms\n",
      "623:\tlearn: 0.4171759\ttotal: 1.64s\tremaining: 988ms\n",
      "624:\tlearn: 0.4169832\ttotal: 1.64s\tremaining: 985ms\n",
      "625:\tlearn: 0.4168612\ttotal: 1.64s\tremaining: 982ms\n",
      "626:\tlearn: 0.4167811\ttotal: 1.65s\tremaining: 979ms\n",
      "627:\tlearn: 0.4166300\ttotal: 1.65s\tremaining: 976ms\n",
      "628:\tlearn: 0.4165194\ttotal: 1.65s\tremaining: 973ms\n",
      "629:\tlearn: 0.4164478\ttotal: 1.65s\tremaining: 970ms\n",
      "630:\tlearn: 0.4163042\ttotal: 1.65s\tremaining: 967ms\n",
      "631:\tlearn: 0.4162261\ttotal: 1.66s\tremaining: 964ms\n",
      "632:\tlearn: 0.4160937\ttotal: 1.66s\tremaining: 961ms\n",
      "633:\tlearn: 0.4160354\ttotal: 1.66s\tremaining: 958ms\n",
      "634:\tlearn: 0.4159662\ttotal: 1.66s\tremaining: 954ms\n",
      "635:\tlearn: 0.4159182\ttotal: 1.66s\tremaining: 952ms\n",
      "636:\tlearn: 0.4158718\ttotal: 1.66s\tremaining: 949ms\n",
      "637:\tlearn: 0.4158064\ttotal: 1.67s\tremaining: 946ms\n",
      "638:\tlearn: 0.4157095\ttotal: 1.67s\tremaining: 942ms\n",
      "639:\tlearn: 0.4155898\ttotal: 1.67s\tremaining: 939ms\n"
     ]
    },
    {
     "name": "stdout",
     "output_type": "stream",
     "text": [
      "640:\tlearn: 0.4154334\ttotal: 1.67s\tremaining: 937ms\n",
      "641:\tlearn: 0.4154070\ttotal: 1.68s\tremaining: 935ms\n",
      "642:\tlearn: 0.4152753\ttotal: 1.68s\tremaining: 932ms\n",
      "643:\tlearn: 0.4150978\ttotal: 1.68s\tremaining: 929ms\n",
      "644:\tlearn: 0.4150767\ttotal: 1.68s\tremaining: 926ms\n",
      "645:\tlearn: 0.4148735\ttotal: 1.69s\tremaining: 924ms\n",
      "646:\tlearn: 0.4147880\ttotal: 1.69s\tremaining: 922ms\n",
      "647:\tlearn: 0.4146903\ttotal: 1.69s\tremaining: 919ms\n",
      "648:\tlearn: 0.4145717\ttotal: 1.69s\tremaining: 916ms\n",
      "649:\tlearn: 0.4144995\ttotal: 1.69s\tremaining: 913ms\n",
      "650:\tlearn: 0.4143815\ttotal: 1.7s\tremaining: 910ms\n",
      "651:\tlearn: 0.4142538\ttotal: 1.7s\tremaining: 907ms\n",
      "652:\tlearn: 0.4141260\ttotal: 1.7s\tremaining: 904ms\n",
      "653:\tlearn: 0.4139946\ttotal: 1.7s\tremaining: 901ms\n",
      "654:\tlearn: 0.4139008\ttotal: 1.71s\tremaining: 898ms\n",
      "655:\tlearn: 0.4138368\ttotal: 1.71s\tremaining: 895ms\n",
      "656:\tlearn: 0.4138064\ttotal: 1.71s\tremaining: 892ms\n",
      "657:\tlearn: 0.4136681\ttotal: 1.71s\tremaining: 889ms\n",
      "658:\tlearn: 0.4135482\ttotal: 1.71s\tremaining: 886ms\n",
      "659:\tlearn: 0.4134479\ttotal: 1.71s\tremaining: 883ms\n",
      "660:\tlearn: 0.4133729\ttotal: 1.72s\tremaining: 881ms\n",
      "661:\tlearn: 0.4133329\ttotal: 1.72s\tremaining: 878ms\n",
      "662:\tlearn: 0.4132812\ttotal: 1.72s\tremaining: 875ms\n",
      "663:\tlearn: 0.4131572\ttotal: 1.72s\tremaining: 872ms\n",
      "664:\tlearn: 0.4130927\ttotal: 1.73s\tremaining: 869ms\n",
      "665:\tlearn: 0.4129479\ttotal: 1.73s\tremaining: 867ms\n",
      "666:\tlearn: 0.4128575\ttotal: 1.73s\tremaining: 864ms\n",
      "667:\tlearn: 0.4128031\ttotal: 1.73s\tremaining: 861ms\n",
      "668:\tlearn: 0.4126967\ttotal: 1.74s\tremaining: 858ms\n",
      "669:\tlearn: 0.4126073\ttotal: 1.74s\tremaining: 856ms\n",
      "670:\tlearn: 0.4124576\ttotal: 1.74s\tremaining: 853ms\n",
      "671:\tlearn: 0.4122515\ttotal: 1.74s\tremaining: 850ms\n",
      "672:\tlearn: 0.4121170\ttotal: 1.74s\tremaining: 847ms\n",
      "673:\tlearn: 0.4119462\ttotal: 1.75s\tremaining: 845ms\n",
      "674:\tlearn: 0.4118817\ttotal: 1.75s\tremaining: 842ms\n",
      "675:\tlearn: 0.4117466\ttotal: 1.75s\tremaining: 839ms\n",
      "676:\tlearn: 0.4116440\ttotal: 1.75s\tremaining: 837ms\n",
      "677:\tlearn: 0.4115976\ttotal: 1.76s\tremaining: 834ms\n",
      "678:\tlearn: 0.4115321\ttotal: 1.76s\tremaining: 831ms\n",
      "679:\tlearn: 0.4114120\ttotal: 1.76s\tremaining: 829ms\n",
      "680:\tlearn: 0.4113261\ttotal: 1.76s\tremaining: 826ms\n",
      "681:\tlearn: 0.4112058\ttotal: 1.76s\tremaining: 823ms\n",
      "682:\tlearn: 0.4111163\ttotal: 1.77s\tremaining: 820ms\n",
      "683:\tlearn: 0.4109326\ttotal: 1.77s\tremaining: 818ms\n",
      "684:\tlearn: 0.4107259\ttotal: 1.77s\tremaining: 815ms\n",
      "685:\tlearn: 0.4106558\ttotal: 1.77s\tremaining: 812ms\n",
      "686:\tlearn: 0.4106051\ttotal: 1.78s\tremaining: 809ms\n",
      "687:\tlearn: 0.4105521\ttotal: 1.78s\tremaining: 806ms\n",
      "688:\tlearn: 0.4103524\ttotal: 1.78s\tremaining: 804ms\n",
      "689:\tlearn: 0.4103069\ttotal: 1.78s\tremaining: 801ms\n",
      "690:\tlearn: 0.4102477\ttotal: 1.78s\tremaining: 798ms\n",
      "691:\tlearn: 0.4101167\ttotal: 1.79s\tremaining: 795ms\n",
      "692:\tlearn: 0.4099523\ttotal: 1.79s\tremaining: 792ms\n",
      "693:\tlearn: 0.4099070\ttotal: 1.79s\tremaining: 789ms\n",
      "694:\tlearn: 0.4098314\ttotal: 1.79s\tremaining: 786ms\n",
      "695:\tlearn: 0.4098112\ttotal: 1.79s\tremaining: 783ms\n",
      "696:\tlearn: 0.4097074\ttotal: 1.8s\tremaining: 781ms\n",
      "697:\tlearn: 0.4095943\ttotal: 1.8s\tremaining: 778ms\n",
      "698:\tlearn: 0.4095230\ttotal: 1.8s\tremaining: 775ms\n",
      "699:\tlearn: 0.4094673\ttotal: 1.8s\tremaining: 772ms\n",
      "700:\tlearn: 0.4094229\ttotal: 1.8s\tremaining: 769ms\n",
      "701:\tlearn: 0.4093359\ttotal: 1.8s\tremaining: 766ms\n",
      "702:\tlearn: 0.4092939\ttotal: 1.81s\tremaining: 764ms\n",
      "703:\tlearn: 0.4091482\ttotal: 1.81s\tremaining: 761ms\n",
      "704:\tlearn: 0.4090360\ttotal: 1.81s\tremaining: 759ms\n",
      "705:\tlearn: 0.4089551\ttotal: 1.81s\tremaining: 756ms\n",
      "706:\tlearn: 0.4088478\ttotal: 1.82s\tremaining: 753ms\n",
      "707:\tlearn: 0.4086289\ttotal: 1.82s\tremaining: 750ms\n",
      "708:\tlearn: 0.4085861\ttotal: 1.82s\tremaining: 748ms\n",
      "709:\tlearn: 0.4084540\ttotal: 1.82s\tremaining: 746ms\n",
      "710:\tlearn: 0.4083947\ttotal: 1.83s\tremaining: 743ms\n",
      "711:\tlearn: 0.4083019\ttotal: 1.83s\tremaining: 740ms\n",
      "712:\tlearn: 0.4082029\ttotal: 1.83s\tremaining: 737ms\n",
      "713:\tlearn: 0.4081315\ttotal: 1.83s\tremaining: 734ms\n",
      "714:\tlearn: 0.4080558\ttotal: 1.83s\tremaining: 732ms\n",
      "715:\tlearn: 0.4079237\ttotal: 1.84s\tremaining: 729ms\n",
      "716:\tlearn: 0.4078372\ttotal: 1.84s\tremaining: 726ms\n",
      "717:\tlearn: 0.4077605\ttotal: 1.84s\tremaining: 724ms\n",
      "718:\tlearn: 0.4076501\ttotal: 1.84s\tremaining: 721ms\n",
      "719:\tlearn: 0.4075307\ttotal: 1.85s\tremaining: 718ms\n",
      "720:\tlearn: 0.4074146\ttotal: 1.85s\tremaining: 715ms\n",
      "721:\tlearn: 0.4073092\ttotal: 1.85s\tremaining: 713ms\n",
      "722:\tlearn: 0.4071926\ttotal: 1.85s\tremaining: 710ms\n",
      "723:\tlearn: 0.4071201\ttotal: 1.85s\tremaining: 707ms\n",
      "724:\tlearn: 0.4070342\ttotal: 1.86s\tremaining: 704ms\n",
      "725:\tlearn: 0.4069141\ttotal: 1.86s\tremaining: 702ms\n",
      "726:\tlearn: 0.4068904\ttotal: 1.86s\tremaining: 699ms\n",
      "727:\tlearn: 0.4068318\ttotal: 1.86s\tremaining: 696ms\n",
      "728:\tlearn: 0.4067556\ttotal: 1.87s\tremaining: 694ms\n",
      "729:\tlearn: 0.4066928\ttotal: 1.87s\tremaining: 691ms\n",
      "730:\tlearn: 0.4065931\ttotal: 1.87s\tremaining: 688ms\n",
      "731:\tlearn: 0.4065086\ttotal: 1.87s\tremaining: 685ms\n",
      "732:\tlearn: 0.4062562\ttotal: 1.87s\tremaining: 682ms\n",
      "733:\tlearn: 0.4060816\ttotal: 1.88s\tremaining: 680ms\n",
      "734:\tlearn: 0.4060467\ttotal: 1.88s\tremaining: 678ms\n",
      "735:\tlearn: 0.4059371\ttotal: 1.88s\tremaining: 675ms\n",
      "736:\tlearn: 0.4057698\ttotal: 1.88s\tremaining: 672ms\n",
      "737:\tlearn: 0.4056072\ttotal: 1.89s\tremaining: 669ms\n",
      "738:\tlearn: 0.4055693\ttotal: 1.89s\tremaining: 666ms\n",
      "739:\tlearn: 0.4054913\ttotal: 1.89s\tremaining: 664ms\n",
      "740:\tlearn: 0.4054031\ttotal: 1.89s\tremaining: 661ms\n",
      "741:\tlearn: 0.4052485\ttotal: 1.89s\tremaining: 658ms\n",
      "742:\tlearn: 0.4052075\ttotal: 1.9s\tremaining: 656ms\n",
      "743:\tlearn: 0.4050363\ttotal: 1.9s\tremaining: 653ms\n",
      "744:\tlearn: 0.4049146\ttotal: 1.9s\tremaining: 650ms\n",
      "745:\tlearn: 0.4048803\ttotal: 1.9s\tremaining: 647ms\n",
      "746:\tlearn: 0.4048437\ttotal: 1.9s\tremaining: 645ms\n",
      "747:\tlearn: 0.4047354\ttotal: 1.91s\tremaining: 642ms\n",
      "748:\tlearn: 0.4046883\ttotal: 1.91s\tremaining: 640ms\n",
      "749:\tlearn: 0.4046234\ttotal: 1.91s\tremaining: 637ms\n",
      "750:\tlearn: 0.4046042\ttotal: 1.91s\tremaining: 634ms\n",
      "751:\tlearn: 0.4045341\ttotal: 1.91s\tremaining: 632ms\n",
      "752:\tlearn: 0.4044548\ttotal: 1.92s\tremaining: 629ms\n",
      "753:\tlearn: 0.4043667\ttotal: 1.92s\tremaining: 627ms\n",
      "754:\tlearn: 0.4041541\ttotal: 1.92s\tremaining: 624ms\n",
      "755:\tlearn: 0.4040040\ttotal: 1.93s\tremaining: 621ms\n",
      "756:\tlearn: 0.4039550\ttotal: 1.93s\tremaining: 619ms\n",
      "757:\tlearn: 0.4038650\ttotal: 1.93s\tremaining: 616ms\n",
      "758:\tlearn: 0.4038167\ttotal: 1.93s\tremaining: 614ms\n",
      "759:\tlearn: 0.4037156\ttotal: 1.93s\tremaining: 611ms\n",
      "760:\tlearn: 0.4036876\ttotal: 1.94s\tremaining: 608ms\n",
      "761:\tlearn: 0.4035393\ttotal: 1.94s\tremaining: 606ms\n",
      "762:\tlearn: 0.4035109\ttotal: 1.94s\tremaining: 603ms\n",
      "763:\tlearn: 0.4034704\ttotal: 1.94s\tremaining: 601ms\n",
      "764:\tlearn: 0.4034347\ttotal: 1.95s\tremaining: 598ms\n",
      "765:\tlearn: 0.4033454\ttotal: 1.95s\tremaining: 596ms\n",
      "766:\tlearn: 0.4031203\ttotal: 1.95s\tremaining: 593ms\n",
      "767:\tlearn: 0.4029835\ttotal: 1.96s\tremaining: 591ms\n",
      "768:\tlearn: 0.4029344\ttotal: 1.96s\tremaining: 588ms\n",
      "769:\tlearn: 0.4026842\ttotal: 1.96s\tremaining: 585ms\n",
      "770:\tlearn: 0.4026090\ttotal: 1.96s\tremaining: 583ms\n",
      "771:\tlearn: 0.4025191\ttotal: 1.96s\tremaining: 580ms\n",
      "772:\tlearn: 0.4024111\ttotal: 1.97s\tremaining: 578ms\n",
      "773:\tlearn: 0.4023299\ttotal: 1.97s\tremaining: 575ms\n",
      "774:\tlearn: 0.4022856\ttotal: 1.97s\tremaining: 573ms\n",
      "775:\tlearn: 0.4022483\ttotal: 1.97s\tremaining: 570ms\n",
      "776:\tlearn: 0.4022017\ttotal: 1.98s\tremaining: 568ms\n",
      "777:\tlearn: 0.4021204\ttotal: 1.98s\tremaining: 565ms\n",
      "778:\tlearn: 0.4020554\ttotal: 1.98s\tremaining: 562ms\n",
      "779:\tlearn: 0.4019563\ttotal: 1.98s\tremaining: 560ms\n",
      "780:\tlearn: 0.4019381\ttotal: 1.99s\tremaining: 557ms\n",
      "781:\tlearn: 0.4018982\ttotal: 1.99s\tremaining: 555ms\n",
      "782:\tlearn: 0.4017783\ttotal: 1.99s\tremaining: 553ms\n",
      "783:\tlearn: 0.4017344\ttotal: 2s\tremaining: 550ms\n",
      "784:\tlearn: 0.4015927\ttotal: 2s\tremaining: 548ms\n",
      "785:\tlearn: 0.4014369\ttotal: 2s\tremaining: 545ms\n",
      "786:\tlearn: 0.4014043\ttotal: 2.01s\tremaining: 543ms\n",
      "787:\tlearn: 0.4012714\ttotal: 2.01s\tremaining: 541ms\n",
      "788:\tlearn: 0.4012546\ttotal: 2.01s\tremaining: 538ms\n",
      "789:\tlearn: 0.4011850\ttotal: 2.01s\tremaining: 535ms\n",
      "790:\tlearn: 0.4010891\ttotal: 2.02s\tremaining: 533ms\n",
      "791:\tlearn: 0.4010094\ttotal: 2.02s\tremaining: 530ms\n",
      "792:\tlearn: 0.4009085\ttotal: 2.02s\tremaining: 528ms\n",
      "793:\tlearn: 0.4008223\ttotal: 2.02s\tremaining: 525ms\n",
      "794:\tlearn: 0.4007829\ttotal: 2.03s\tremaining: 523ms\n",
      "795:\tlearn: 0.4006607\ttotal: 2.03s\tremaining: 520ms\n",
      "796:\tlearn: 0.4006475\ttotal: 2.03s\tremaining: 518ms\n",
      "797:\tlearn: 0.4005845\ttotal: 2.03s\tremaining: 515ms\n",
      "798:\tlearn: 0.4005076\ttotal: 2.04s\tremaining: 513ms\n",
      "799:\tlearn: 0.4004376\ttotal: 2.04s\tremaining: 510ms\n",
      "800:\tlearn: 0.4002851\ttotal: 2.04s\tremaining: 508ms\n",
      "801:\tlearn: 0.4002105\ttotal: 2.05s\tremaining: 505ms\n",
      "802:\tlearn: 0.4000602\ttotal: 2.05s\tremaining: 503ms\n",
      "803:\tlearn: 0.3999979\ttotal: 2.05s\tremaining: 501ms\n",
      "804:\tlearn: 0.3999670\ttotal: 2.06s\tremaining: 498ms\n",
      "805:\tlearn: 0.3999497\ttotal: 2.06s\tremaining: 495ms\n",
      "806:\tlearn: 0.3998632\ttotal: 2.06s\tremaining: 493ms\n",
      "807:\tlearn: 0.3997238\ttotal: 2.06s\tremaining: 490ms\n",
      "808:\tlearn: 0.3996517\ttotal: 2.06s\tremaining: 487ms\n",
      "809:\tlearn: 0.3995038\ttotal: 2.06s\tremaining: 484ms\n",
      "810:\tlearn: 0.3993898\ttotal: 2.07s\tremaining: 482ms\n",
      "811:\tlearn: 0.3991343\ttotal: 2.07s\tremaining: 479ms\n",
      "812:\tlearn: 0.3989819\ttotal: 2.07s\tremaining: 476ms\n",
      "813:\tlearn: 0.3989277\ttotal: 2.07s\tremaining: 474ms\n",
      "814:\tlearn: 0.3986956\ttotal: 2.07s\tremaining: 471ms\n",
      "815:\tlearn: 0.3986226\ttotal: 2.08s\tremaining: 468ms\n",
      "816:\tlearn: 0.3985063\ttotal: 2.08s\tremaining: 465ms\n",
      "817:\tlearn: 0.3984259\ttotal: 2.08s\tremaining: 463ms\n",
      "818:\tlearn: 0.3982970\ttotal: 2.08s\tremaining: 460ms\n",
      "819:\tlearn: 0.3981287\ttotal: 2.08s\tremaining: 457ms\n",
      "820:\tlearn: 0.3980944\ttotal: 2.08s\tremaining: 454ms\n",
      "821:\tlearn: 0.3979829\ttotal: 2.08s\tremaining: 452ms\n",
      "822:\tlearn: 0.3978833\ttotal: 2.09s\tremaining: 449ms\n",
      "823:\tlearn: 0.3978253\ttotal: 2.09s\tremaining: 446ms\n",
      "824:\tlearn: 0.3977123\ttotal: 2.09s\tremaining: 444ms\n",
      "825:\tlearn: 0.3976857\ttotal: 2.09s\tremaining: 441ms\n",
      "826:\tlearn: 0.3974279\ttotal: 2.09s\tremaining: 438ms\n",
      "827:\tlearn: 0.3973600\ttotal: 2.1s\tremaining: 435ms\n",
      "828:\tlearn: 0.3973371\ttotal: 2.1s\tremaining: 433ms\n",
      "829:\tlearn: 0.3972068\ttotal: 2.1s\tremaining: 430ms\n",
      "830:\tlearn: 0.3971432\ttotal: 2.1s\tremaining: 427ms\n",
      "831:\tlearn: 0.3970593\ttotal: 2.1s\tremaining: 425ms\n",
      "832:\tlearn: 0.3969747\ttotal: 2.1s\tremaining: 422ms\n",
      "833:\tlearn: 0.3968095\ttotal: 2.11s\tremaining: 419ms\n",
      "834:\tlearn: 0.3967668\ttotal: 2.11s\tremaining: 417ms\n",
      "835:\tlearn: 0.3966544\ttotal: 2.11s\tremaining: 414ms\n",
      "836:\tlearn: 0.3965712\ttotal: 2.11s\tremaining: 411ms\n",
      "837:\tlearn: 0.3965445\ttotal: 2.11s\tremaining: 409ms\n",
      "838:\tlearn: 0.3964603\ttotal: 2.12s\tremaining: 406ms\n",
      "839:\tlearn: 0.3963132\ttotal: 2.12s\tremaining: 403ms\n",
      "840:\tlearn: 0.3962036\ttotal: 2.12s\tremaining: 401ms\n",
      "841:\tlearn: 0.3960765\ttotal: 2.12s\tremaining: 398ms\n"
     ]
    },
    {
     "name": "stdout",
     "output_type": "stream",
     "text": [
      "842:\tlearn: 0.3959215\ttotal: 2.12s\tremaining: 395ms\n",
      "843:\tlearn: 0.3958095\ttotal: 2.12s\tremaining: 392ms\n",
      "844:\tlearn: 0.3956378\ttotal: 2.12s\tremaining: 390ms\n",
      "845:\tlearn: 0.3954919\ttotal: 2.13s\tremaining: 387ms\n",
      "846:\tlearn: 0.3954063\ttotal: 2.13s\tremaining: 384ms\n",
      "847:\tlearn: 0.3951709\ttotal: 2.13s\tremaining: 382ms\n",
      "848:\tlearn: 0.3951509\ttotal: 2.13s\tremaining: 379ms\n",
      "849:\tlearn: 0.3950268\ttotal: 2.13s\tremaining: 377ms\n",
      "850:\tlearn: 0.3949640\ttotal: 2.13s\tremaining: 374ms\n",
      "851:\tlearn: 0.3949027\ttotal: 2.14s\tremaining: 371ms\n",
      "852:\tlearn: 0.3948315\ttotal: 2.14s\tremaining: 369ms\n",
      "853:\tlearn: 0.3947736\ttotal: 2.14s\tremaining: 366ms\n",
      "854:\tlearn: 0.3947109\ttotal: 2.14s\tremaining: 363ms\n",
      "855:\tlearn: 0.3945990\ttotal: 2.14s\tremaining: 361ms\n",
      "856:\tlearn: 0.3945192\ttotal: 2.15s\tremaining: 358ms\n",
      "857:\tlearn: 0.3944302\ttotal: 2.15s\tremaining: 355ms\n",
      "858:\tlearn: 0.3943686\ttotal: 2.15s\tremaining: 353ms\n",
      "859:\tlearn: 0.3943108\ttotal: 2.15s\tremaining: 350ms\n",
      "860:\tlearn: 0.3942418\ttotal: 2.15s\tremaining: 348ms\n",
      "861:\tlearn: 0.3942050\ttotal: 2.15s\tremaining: 345ms\n",
      "862:\tlearn: 0.3940680\ttotal: 2.16s\tremaining: 342ms\n",
      "863:\tlearn: 0.3940127\ttotal: 2.16s\tremaining: 340ms\n",
      "864:\tlearn: 0.3939582\ttotal: 2.16s\tremaining: 337ms\n",
      "865:\tlearn: 0.3938657\ttotal: 2.16s\tremaining: 334ms\n",
      "866:\tlearn: 0.3938147\ttotal: 2.16s\tremaining: 332ms\n",
      "867:\tlearn: 0.3937553\ttotal: 2.16s\tremaining: 329ms\n",
      "868:\tlearn: 0.3936146\ttotal: 2.17s\tremaining: 327ms\n",
      "869:\tlearn: 0.3935470\ttotal: 2.17s\tremaining: 324ms\n",
      "870:\tlearn: 0.3933825\ttotal: 2.17s\tremaining: 321ms\n",
      "871:\tlearn: 0.3932099\ttotal: 2.17s\tremaining: 319ms\n",
      "872:\tlearn: 0.3931424\ttotal: 2.17s\tremaining: 316ms\n",
      "873:\tlearn: 0.3930760\ttotal: 2.17s\tremaining: 314ms\n",
      "874:\tlearn: 0.3929651\ttotal: 2.18s\tremaining: 311ms\n",
      "875:\tlearn: 0.3928605\ttotal: 2.18s\tremaining: 308ms\n",
      "876:\tlearn: 0.3927941\ttotal: 2.18s\tremaining: 306ms\n",
      "877:\tlearn: 0.3927092\ttotal: 2.18s\tremaining: 303ms\n",
      "878:\tlearn: 0.3926495\ttotal: 2.18s\tremaining: 301ms\n",
      "879:\tlearn: 0.3926219\ttotal: 2.18s\tremaining: 298ms\n",
      "880:\tlearn: 0.3924675\ttotal: 2.19s\tremaining: 295ms\n",
      "881:\tlearn: 0.3924042\ttotal: 2.19s\tremaining: 293ms\n",
      "882:\tlearn: 0.3923706\ttotal: 2.19s\tremaining: 290ms\n",
      "883:\tlearn: 0.3923250\ttotal: 2.2s\tremaining: 288ms\n",
      "884:\tlearn: 0.3922732\ttotal: 2.2s\tremaining: 286ms\n",
      "885:\tlearn: 0.3922077\ttotal: 2.2s\tremaining: 283ms\n",
      "886:\tlearn: 0.3921744\ttotal: 2.21s\tremaining: 281ms\n",
      "887:\tlearn: 0.3920757\ttotal: 2.21s\tremaining: 279ms\n",
      "888:\tlearn: 0.3920085\ttotal: 2.21s\tremaining: 276ms\n",
      "889:\tlearn: 0.3919638\ttotal: 2.21s\tremaining: 274ms\n",
      "890:\tlearn: 0.3918473\ttotal: 2.21s\tremaining: 271ms\n",
      "891:\tlearn: 0.3916872\ttotal: 2.22s\tremaining: 269ms\n",
      "892:\tlearn: 0.3915781\ttotal: 2.22s\tremaining: 266ms\n",
      "893:\tlearn: 0.3913965\ttotal: 2.22s\tremaining: 263ms\n",
      "894:\tlearn: 0.3912614\ttotal: 2.22s\tremaining: 261ms\n",
      "895:\tlearn: 0.3911352\ttotal: 2.23s\tremaining: 259ms\n",
      "896:\tlearn: 0.3910130\ttotal: 2.23s\tremaining: 256ms\n",
      "897:\tlearn: 0.3909254\ttotal: 2.23s\tremaining: 253ms\n",
      "898:\tlearn: 0.3908654\ttotal: 2.23s\tremaining: 251ms\n",
      "899:\tlearn: 0.3906870\ttotal: 2.24s\tremaining: 249ms\n",
      "900:\tlearn: 0.3906123\ttotal: 2.24s\tremaining: 246ms\n",
      "901:\tlearn: 0.3905490\ttotal: 2.24s\tremaining: 244ms\n",
      "902:\tlearn: 0.3904447\ttotal: 2.24s\tremaining: 241ms\n",
      "903:\tlearn: 0.3903949\ttotal: 2.25s\tremaining: 239ms\n",
      "904:\tlearn: 0.3902939\ttotal: 2.25s\tremaining: 236ms\n",
      "905:\tlearn: 0.3902713\ttotal: 2.25s\tremaining: 234ms\n",
      "906:\tlearn: 0.3900779\ttotal: 2.25s\tremaining: 231ms\n",
      "907:\tlearn: 0.3899480\ttotal: 2.25s\tremaining: 228ms\n",
      "908:\tlearn: 0.3898550\ttotal: 2.26s\tremaining: 226ms\n",
      "909:\tlearn: 0.3897298\ttotal: 2.26s\tremaining: 223ms\n",
      "910:\tlearn: 0.3896375\ttotal: 2.26s\tremaining: 221ms\n",
      "911:\tlearn: 0.3895617\ttotal: 2.26s\tremaining: 218ms\n",
      "912:\tlearn: 0.3894635\ttotal: 2.27s\tremaining: 216ms\n",
      "913:\tlearn: 0.3892292\ttotal: 2.27s\tremaining: 213ms\n",
      "914:\tlearn: 0.3891683\ttotal: 2.27s\tremaining: 211ms\n",
      "915:\tlearn: 0.3891396\ttotal: 2.27s\tremaining: 208ms\n",
      "916:\tlearn: 0.3890793\ttotal: 2.27s\tremaining: 206ms\n",
      "917:\tlearn: 0.3889595\ttotal: 2.28s\tremaining: 203ms\n",
      "918:\tlearn: 0.3888912\ttotal: 2.28s\tremaining: 201ms\n",
      "919:\tlearn: 0.3888170\ttotal: 2.28s\tremaining: 198ms\n",
      "920:\tlearn: 0.3887385\ttotal: 2.29s\tremaining: 196ms\n",
      "921:\tlearn: 0.3886214\ttotal: 2.29s\tremaining: 194ms\n",
      "922:\tlearn: 0.3884923\ttotal: 2.29s\tremaining: 191ms\n",
      "923:\tlearn: 0.3884128\ttotal: 2.29s\tremaining: 189ms\n",
      "924:\tlearn: 0.3882797\ttotal: 2.29s\tremaining: 186ms\n",
      "925:\tlearn: 0.3882154\ttotal: 2.3s\tremaining: 184ms\n",
      "926:\tlearn: 0.3881475\ttotal: 2.3s\tremaining: 181ms\n",
      "927:\tlearn: 0.3881186\ttotal: 2.3s\tremaining: 179ms\n",
      "928:\tlearn: 0.3880658\ttotal: 2.3s\tremaining: 176ms\n",
      "929:\tlearn: 0.3880136\ttotal: 2.3s\tremaining: 173ms\n",
      "930:\tlearn: 0.3879521\ttotal: 2.31s\tremaining: 171ms\n",
      "931:\tlearn: 0.3879126\ttotal: 2.31s\tremaining: 168ms\n",
      "932:\tlearn: 0.3878168\ttotal: 2.31s\tremaining: 166ms\n",
      "933:\tlearn: 0.3877307\ttotal: 2.31s\tremaining: 163ms\n",
      "934:\tlearn: 0.3876161\ttotal: 2.31s\tremaining: 161ms\n",
      "935:\tlearn: 0.3875494\ttotal: 2.31s\tremaining: 158ms\n",
      "936:\tlearn: 0.3875335\ttotal: 2.31s\tremaining: 156ms\n",
      "937:\tlearn: 0.3874725\ttotal: 2.32s\tremaining: 153ms\n",
      "938:\tlearn: 0.3873888\ttotal: 2.32s\tremaining: 151ms\n",
      "939:\tlearn: 0.3873530\ttotal: 2.32s\tremaining: 148ms\n",
      "940:\tlearn: 0.3872480\ttotal: 2.34s\tremaining: 146ms\n",
      "941:\tlearn: 0.3871844\ttotal: 2.34s\tremaining: 144ms\n",
      "942:\tlearn: 0.3871101\ttotal: 2.34s\tremaining: 141ms\n",
      "943:\tlearn: 0.3870522\ttotal: 2.34s\tremaining: 139ms\n",
      "944:\tlearn: 0.3869662\ttotal: 2.34s\tremaining: 136ms\n",
      "945:\tlearn: 0.3867881\ttotal: 2.34s\tremaining: 134ms\n",
      "946:\tlearn: 0.3867681\ttotal: 2.34s\tremaining: 131ms\n",
      "947:\tlearn: 0.3867158\ttotal: 2.35s\tremaining: 129ms\n",
      "948:\tlearn: 0.3866459\ttotal: 2.35s\tremaining: 126ms\n",
      "949:\tlearn: 0.3866319\ttotal: 2.35s\tremaining: 124ms\n",
      "950:\tlearn: 0.3865271\ttotal: 2.35s\tremaining: 121ms\n",
      "951:\tlearn: 0.3863621\ttotal: 2.35s\tremaining: 119ms\n",
      "952:\tlearn: 0.3863041\ttotal: 2.35s\tremaining: 116ms\n",
      "953:\tlearn: 0.3861502\ttotal: 2.35s\tremaining: 114ms\n",
      "954:\tlearn: 0.3860896\ttotal: 2.36s\tremaining: 111ms\n",
      "955:\tlearn: 0.3859764\ttotal: 2.36s\tremaining: 109ms\n",
      "956:\tlearn: 0.3859407\ttotal: 2.36s\tremaining: 106ms\n",
      "957:\tlearn: 0.3858678\ttotal: 2.36s\tremaining: 104ms\n",
      "958:\tlearn: 0.3857508\ttotal: 2.36s\tremaining: 101ms\n",
      "959:\tlearn: 0.3856071\ttotal: 2.36s\tremaining: 98.5ms\n",
      "960:\tlearn: 0.3855391\ttotal: 2.37s\tremaining: 96ms\n",
      "961:\tlearn: 0.3855176\ttotal: 2.37s\tremaining: 93.6ms\n",
      "962:\tlearn: 0.3854017\ttotal: 2.37s\tremaining: 91.1ms\n",
      "963:\tlearn: 0.3852929\ttotal: 2.37s\tremaining: 88.7ms\n",
      "964:\tlearn: 0.3852029\ttotal: 2.38s\tremaining: 86.2ms\n",
      "965:\tlearn: 0.3850641\ttotal: 2.38s\tremaining: 83.8ms\n",
      "966:\tlearn: 0.3849691\ttotal: 2.38s\tremaining: 81.3ms\n",
      "967:\tlearn: 0.3848577\ttotal: 2.38s\tremaining: 78.8ms\n",
      "968:\tlearn: 0.3847889\ttotal: 2.39s\tremaining: 76.3ms\n",
      "969:\tlearn: 0.3847160\ttotal: 2.39s\tremaining: 73.9ms\n",
      "970:\tlearn: 0.3846267\ttotal: 2.39s\tremaining: 71.4ms\n",
      "971:\tlearn: 0.3845346\ttotal: 2.39s\tremaining: 68.9ms\n",
      "972:\tlearn: 0.3844150\ttotal: 2.4s\tremaining: 66.5ms\n",
      "973:\tlearn: 0.3842555\ttotal: 2.4s\tremaining: 64ms\n",
      "974:\tlearn: 0.3841271\ttotal: 2.4s\tremaining: 61.6ms\n",
      "975:\tlearn: 0.3840287\ttotal: 2.4s\tremaining: 59.1ms\n",
      "976:\tlearn: 0.3838721\ttotal: 2.41s\tremaining: 56.7ms\n",
      "977:\tlearn: 0.3837609\ttotal: 2.41s\tremaining: 54.2ms\n",
      "978:\tlearn: 0.3837081\ttotal: 2.41s\tremaining: 51.7ms\n",
      "979:\tlearn: 0.3836792\ttotal: 2.41s\tremaining: 49.2ms\n",
      "980:\tlearn: 0.3836323\ttotal: 2.42s\tremaining: 46.8ms\n",
      "981:\tlearn: 0.3835245\ttotal: 2.42s\tremaining: 44.3ms\n",
      "982:\tlearn: 0.3833316\ttotal: 2.42s\tremaining: 41.9ms\n",
      "983:\tlearn: 0.3832360\ttotal: 2.42s\tremaining: 39.4ms\n",
      "984:\tlearn: 0.3832127\ttotal: 2.42s\tremaining: 36.9ms\n",
      "985:\tlearn: 0.3831203\ttotal: 2.42s\tremaining: 34.4ms\n",
      "986:\tlearn: 0.3830816\ttotal: 2.43s\tremaining: 32ms\n",
      "987:\tlearn: 0.3830406\ttotal: 2.43s\tremaining: 29.5ms\n",
      "988:\tlearn: 0.3828855\ttotal: 2.43s\tremaining: 27ms\n",
      "989:\tlearn: 0.3828182\ttotal: 2.43s\tremaining: 24.6ms\n",
      "990:\tlearn: 0.3826559\ttotal: 2.43s\tremaining: 22.1ms\n",
      "991:\tlearn: 0.3824761\ttotal: 2.44s\tremaining: 19.6ms\n",
      "992:\tlearn: 0.3823353\ttotal: 2.44s\tremaining: 17.2ms\n",
      "993:\tlearn: 0.3822947\ttotal: 2.44s\tremaining: 14.7ms\n",
      "994:\tlearn: 0.3822466\ttotal: 2.44s\tremaining: 12.3ms\n",
      "995:\tlearn: 0.3822015\ttotal: 2.44s\tremaining: 9.8ms\n",
      "996:\tlearn: 0.3820941\ttotal: 2.44s\tremaining: 7.35ms\n",
      "997:\tlearn: 0.3820616\ttotal: 2.44s\tremaining: 4.9ms\n",
      "998:\tlearn: 0.3819992\ttotal: 2.45s\tremaining: 2.45ms\n",
      "999:\tlearn: 0.3817662\ttotal: 2.45s\tremaining: 0us\n",
      "Train Accuracy\n",
      "82.3913043478261\n",
      "Validation Accuracy\n",
      "82.46753246753246\n"
     ]
    }
   ],
   "source": [
    "cb=CatBoostClassifier(max_depth=3)\n",
    "cb.fit(X_train,y_train)\n",
    "\n",
    "y_pred_cb_tr=cb.predict(X_train)\n",
    "y_pred_cb_val=cb.predict(X_val)\n",
    "\n",
    "ac_cb_tr=accuracy_score(y_train,y_pred_cb_tr)\n",
    "ac_cb_val=accuracy_score(y_val,y_pred_cb_val)\n",
    "\n",
    "print('Train Accuracy')\n",
    "print(ac_cb_tr*100)\n",
    "print('Validation Accuracy')\n",
    "print(ac_cb_val*100)"
   ]
  },
  {
   "cell_type": "code",
   "execution_count": 57,
   "metadata": {
    "ExecuteTime": {
     "end_time": "2020-12-08T12:27:19.681988Z",
     "start_time": "2020-12-08T12:27:19.641497Z"
    }
   },
   "outputs": [],
   "source": [
    "prediction_cb=cb.predict(test)\n",
    "\n",
    "submission=pd.DataFrame({\"Loan_ID\":loan_test[\"Loan_ID\"],\"Loan_Status\":prediction_cb})\n",
    "submission.to_csv('sub_cb.csv',index=False)"
   ]
  },
  {
   "cell_type": "markdown",
   "metadata": {},
   "source": [
    "### KNN"
   ]
  },
  {
   "cell_type": "code",
   "execution_count": 58,
   "metadata": {
    "ExecuteTime": {
     "end_time": "2020-12-08T12:27:19.819500Z",
     "start_time": "2020-12-08T12:27:19.687374Z"
    }
   },
   "outputs": [
    {
     "name": "stdout",
     "output_type": "stream",
     "text": [
      "Train Accuracy\n",
      "74.1304347826087\n",
      "Validation Accuracy\n",
      "64.93506493506493\n"
     ]
    }
   ],
   "source": [
    "knn=KNeighborsClassifier()\n",
    "knn.fit(X_train,y_train)\n",
    "\n",
    "y_pred_knn_tr=knn.predict(X_train)\n",
    "y_pred_knn_val=knn.predict(X_val)\n",
    "\n",
    "ac_knn_tr=accuracy_score(y_train,y_pred_knn_tr)\n",
    "ac_knn_val=accuracy_score(y_val,y_pred_knn_val)\n",
    "\n",
    "print('Train Accuracy')\n",
    "print(ac_knn_tr*100)\n",
    "print('Validation Accuracy')\n",
    "print(ac_knn_val*100)"
   ]
  },
  {
   "cell_type": "code",
   "execution_count": 59,
   "metadata": {
    "ExecuteTime": {
     "end_time": "2020-12-08T12:27:19.882207Z",
     "start_time": "2020-12-08T12:27:19.825007Z"
    }
   },
   "outputs": [],
   "source": [
    "prediction_knn=knn.predict(test)\n",
    "\n",
    "submission=pd.DataFrame({\"Loan_ID\":loan_test[\"Loan_ID\"],\"Loan_Status\":prediction_knn})\n",
    "submission.to_csv('sub_knn.csv',index=False)"
   ]
  },
  {
   "cell_type": "code",
   "execution_count": 60,
   "metadata": {
    "ExecuteTime": {
     "end_time": "2020-12-08T12:27:20.100642Z",
     "start_time": "2020-12-08T12:27:19.887128Z"
    }
   },
   "outputs": [
    {
     "name": "stdout",
     "output_type": "stream",
     "text": [
      "Train Accuracy\n",
      "99.1304347826087\n",
      "Validation Accuracy\n",
      "77.27272727272727\n"
     ]
    }
   ],
   "source": [
    "lgbm=LGBMClassifier()\n",
    "lgbm.fit(X_train,y_train)\n",
    "\n",
    "y_pred_lgbm_tr=lgbm.predict(X_train)\n",
    "y_pred_lgbm_val=lgbm.predict(X_val)\n",
    "\n",
    "ac_lgbm_tr=accuracy_score(y_train,y_pred_lgbm_tr)\n",
    "ac_lgbm_val=accuracy_score(y_val,y_pred_lgbm_val)\n",
    "\n",
    "print('Train Accuracy')\n",
    "print(ac_lgbm_tr*100)\n",
    "print('Validation Accuracy')\n",
    "print(ac_lgbm_val*100)"
   ]
  },
  {
   "cell_type": "code",
   "execution_count": 61,
   "metadata": {
    "ExecuteTime": {
     "end_time": "2020-12-08T12:27:20.131474Z",
     "start_time": "2020-12-08T12:27:20.104547Z"
    }
   },
   "outputs": [],
   "source": [
    "prediction_lgbm=lgbm.predict(test)\n",
    "\n",
    "submission=pd.DataFrame({\"Loan_ID\":loan_test[\"Loan_ID\"],\"Loan_Status\":prediction_lgbm})\n",
    "submission.to_csv('sub_lgbm.csv',index=False)"
   ]
  },
  {
   "cell_type": "code",
   "execution_count": 62,
   "metadata": {
    "ExecuteTime": {
     "end_time": "2020-12-08T12:27:20.194545Z",
     "start_time": "2020-12-08T12:27:20.134466Z"
    }
   },
   "outputs": [
    {
     "name": "stdout",
     "output_type": "stream",
     "text": [
      "Train Accuracy\n",
      "78.69565217391305\n",
      "Validation Accuracy\n",
      "81.81818181818183\n"
     ]
    }
   ],
   "source": [
    "ev=GaussianNB()\n",
    "ev.fit(X_train,y_train)\n",
    "\n",
    "y_pred_ev_tr=ev.predict(X_train)\n",
    "y_pred_ev_val=ev.predict(X_val)\n",
    "\n",
    "ac_ev_tr=accuracy_score(y_train,y_pred_ev_tr)\n",
    "ac_ev_val=accuracy_score(y_val,y_pred_ev_val)\n",
    "\n",
    "print('Train Accuracy')\n",
    "print(ac_ev_tr*100)\n",
    "print('Validation Accuracy')\n",
    "print(ac_ev_val*100)"
   ]
  },
  {
   "cell_type": "code",
   "execution_count": 63,
   "metadata": {
    "ExecuteTime": {
     "end_time": "2020-12-08T12:27:20.256145Z",
     "start_time": "2020-12-08T12:27:20.204284Z"
    }
   },
   "outputs": [],
   "source": [
    "prediction_ev=ev.predict(test)\n",
    "\n",
    "submission=pd.DataFrame({\"Loan_ID\":loan_test[\"Loan_ID\"],\"Loan_Status\":prediction_ev})\n",
    "submission.to_csv('sub_ev.csv',index=False)"
   ]
  },
  {
   "cell_type": "code",
   "execution_count": null,
   "metadata": {},
   "outputs": [],
   "source": []
  },
  {
   "cell_type": "code",
   "execution_count": null,
   "metadata": {},
   "outputs": [],
   "source": []
  },
  {
   "cell_type": "code",
   "execution_count": null,
   "metadata": {},
   "outputs": [],
   "source": []
  }
 ],
 "metadata": {
  "kernelspec": {
   "display_name": "Python 3",
   "language": "python",
   "name": "python3"
  },
  "language_info": {
   "codemirror_mode": {
    "name": "ipython",
    "version": 3
   },
   "file_extension": ".py",
   "mimetype": "text/x-python",
   "name": "python",
   "nbconvert_exporter": "python",
   "pygments_lexer": "ipython3",
   "version": "3.8.5"
  },
  "toc": {
   "base_numbering": 1,
   "nav_menu": {},
   "number_sections": true,
   "sideBar": true,
   "skip_h1_title": false,
   "title_cell": "Table of Contents",
   "title_sidebar": "Contents",
   "toc_cell": false,
   "toc_position": {},
   "toc_section_display": true,
   "toc_window_display": true
  }
 },
 "nbformat": 4,
 "nbformat_minor": 2
}
